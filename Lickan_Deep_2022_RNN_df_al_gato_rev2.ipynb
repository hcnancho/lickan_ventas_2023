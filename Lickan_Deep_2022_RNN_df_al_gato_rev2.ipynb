{
  "cells": [
    {
      "cell_type": "markdown",
      "metadata": {
        "id": "view-in-github",
        "colab_type": "text"
      },
      "source": [
        "<a href=\"https://colab.research.google.com/github/hcnancho/lickan_ventas_2023/blob/main/Lickan_Deep_2022_RNN_df_al_gato_rev2.ipynb\" target=\"_parent\"><img src=\"https://colab.research.google.com/assets/colab-badge.svg\" alt=\"Open In Colab\"/></a>"
      ]
    },
    {
      "cell_type": "markdown",
      "metadata": {
        "id": "02G-saV75QDk"
      },
      "source": [
        "#Exploracion de Datos LickanPets"
      ]
    },
    {
      "cell_type": "markdown",
      "metadata": {
        "id": "NUCIT5h85eW8"
      },
      "source": [
        "*   Importación de las Librerias\n",
        "*   Conexión con Google Drive"
      ]
    },
    {
      "cell_type": "code",
      "execution_count": 1,
      "metadata": {
        "id": "YyAekStIxbeo"
      },
      "outputs": [],
      "source": [
        "import matplotlib.pyplot as plt\n",
        "import pandas as pd\n",
        "import numpy as np\n",
        "import seaborn as sns\n",
        "from sklearn.preprocessing import MinMaxScaler, StandardScaler\n",
        "from keras.constraints import nonneg"
      ]
    },
    {
      "cell_type": "code",
      "execution_count": 2,
      "metadata": {
        "colab": {
          "base_uri": "https://localhost:8080/"
        },
        "id": "56UjoLSTywfb",
        "outputId": "6e55c555-9837-4de8-91cb-8a7a1b4ff5c9"
      },
      "outputs": [
        {
          "output_type": "stream",
          "name": "stdout",
          "text": [
            "Mounted at /content/drive\n"
          ]
        }
      ],
      "source": [
        "from google.colab import drive\n",
        "drive.mount('/content/drive')"
      ]
    },
    {
      "cell_type": "code",
      "execution_count": 3,
      "metadata": {
        "id": "6wl1S9cp0if0"
      },
      "outputs": [],
      "source": [
        "df_lickan = pd.read_excel('/content/drive/MyDrive/Proyecto_Deep_Lickan2022/bd_lickan_ventas_2016_oct_01_2022.xlsx')"
      ]
    },
    {
      "cell_type": "markdown",
      "metadata": {
        "id": "7IYRBGQhKa34"
      },
      "source": [
        "##Extraccion del dataframe Alimento de Gato"
      ]
    },
    {
      "cell_type": "code",
      "execution_count": 87,
      "metadata": {
        "colab": {
          "base_uri": "https://localhost:8080/"
        },
        "id": "itAhyOxd07Tr",
        "outputId": "3baeacc9-afee-476c-d176-80ceb6135cfb"
      },
      "outputs": [
        {
          "output_type": "execute_result",
          "data": {
            "text/plain": [
              "(78828, 30)"
            ]
          },
          "metadata": {},
          "execution_count": 87
        }
      ],
      "source": [
        "df_lickan.shape"
      ]
    },
    {
      "cell_type": "markdown",
      "metadata": {
        "id": "6ARKlPet6EUu"
      },
      "source": [
        "Descripción incial de datos y revision de valores nulos"
      ]
    },
    {
      "cell_type": "markdown",
      "metadata": {
        "id": "7bW63H5T6VKF"
      },
      "source": [
        "### Copiamos la data, para mantener los datos originales sin alteración, en el caso que los necesitemos revisar nuevamente"
      ]
    },
    {
      "cell_type": "code",
      "execution_count": 88,
      "metadata": {
        "id": "wtgQ8YRC1Q9d"
      },
      "outputs": [],
      "source": [
        "df_lmod = df_lickan.copy() "
      ]
    },
    {
      "cell_type": "markdown",
      "metadata": {
        "id": "d6kQUix78GGv"
      },
      "source": [
        "### Quitamos las columnas que parecieran redundante para la primera etapa del analisis"
      ]
    },
    {
      "cell_type": "code",
      "execution_count": 89,
      "metadata": {
        "id": "FcYBiidM6rct"
      },
      "outputs": [],
      "source": [
        "df_lmod = df_lmod.drop(columns=['Email Cliente','Ciudad Cliente','Comuna Cliente','Dirección Cliente','Detalle de Productos/Servicios Pack/Promo','Margen','Cliente','Tipo Movimiento', 'Vendedor', 'Tipo de Documento', 'Rut Cliente', 'Tracking Number','Lista de Precio', 'Fecha Documento', 'Precio Neto Unitario', 'Subtotal Impuestos', 'Subtotal Neto', 'Costo Neto Unitario', 'Costo Total Neto', '% Margen','Otros Atributos'])"
      ]
    },
    {
      "cell_type": "markdown",
      "metadata": {
        "id": "_9Z7alJP9FkW"
      },
      "source": [
        "revisamos que valores siguen siendo nulos para el dataframe reducido y los eliminamos"
      ]
    },
    {
      "cell_type": "code",
      "execution_count": 90,
      "metadata": {
        "colab": {
          "base_uri": "https://localhost:8080/"
        },
        "id": "LDhwaGWQMOrC",
        "outputId": "7b64c647-4a5d-48b7-b4fd-d1b965c93935"
      },
      "outputs": [
        {
          "output_type": "stream",
          "name": "stdout",
          "text": [
            "      Sucursal  Numero Documento Fecha Venta Hora Venta  \\\n",
            "78827      NaN               NaN         NaN        NaN   \n",
            "\n",
            "      Tipo de Producto / Servicio  SKU Producto / Servicio  Cantidad  \n",
            "78827                         NaN  NaN                 NaN       NaN  \n"
          ]
        }
      ],
      "source": [
        "null_columns=df_lmod.columns[df_lmod.isnull().any()]\n",
        "df_lmod[null_columns].isnull().sum()\n",
        "print(df_lmod[df_lmod.isnull().any(axis=1)][null_columns].head())\n",
        "df_lmod = df_lmod.dropna(how='any')"
      ]
    },
    {
      "cell_type": "code",
      "execution_count": 91,
      "metadata": {
        "colab": {
          "base_uri": "https://localhost:8080/"
        },
        "id": "npLvdP_4OFRO",
        "outputId": "cdf34fc9-7bf5-4a78-8b0d-6fcc71295661"
      },
      "outputs": [
        {
          "output_type": "execute_result",
          "data": {
            "text/plain": [
              "Sucursal                       0\n",
              "Numero Documento               0\n",
              "Fecha Venta                    0\n",
              "Hora Venta                     0\n",
              "Tipo de Producto / Servicio    0\n",
              "SKU                            0\n",
              "Producto / Servicio            0\n",
              "Cantidad                       0\n",
              "Subtotal Bruto                 0\n",
              "dtype: int64"
            ]
          },
          "metadata": {},
          "execution_count": 91
        }
      ],
      "source": [
        "df_lmod.isnull().sum()"
      ]
    },
    {
      "cell_type": "code",
      "execution_count": 92,
      "metadata": {
        "colab": {
          "base_uri": "https://localhost:8080/"
        },
        "id": "VslNewg5fuw0",
        "outputId": "5bcc6209-80aa-4a90-fab9-a18bd6245aee"
      },
      "outputs": [
        {
          "output_type": "execute_result",
          "data": {
            "text/plain": [
              "(78827, 9)"
            ]
          },
          "metadata": {},
          "execution_count": 92
        }
      ],
      "source": [
        "df_lmod.shape"
      ]
    },
    {
      "cell_type": "markdown",
      "metadata": {
        "id": "UyK1yEgE9TDJ"
      },
      "source": [
        "### Cambiamos el encabezado de las colummas para hacer mas simple la interpretación de los datos"
      ]
    },
    {
      "cell_type": "code",
      "execution_count": 93,
      "metadata": {
        "id": "n63fNIz38gxB"
      },
      "outputs": [],
      "source": [
        "df_lmod = df_lmod.rename(columns={'Tipo de Producto / Servicio':'Familia_Producto_Servicio',\n",
        "                                   'Producto / Servicio':'Producto_Servicio', 'Fecha Venta':'Fecha_Venta', 'Hora Venta':'Hora_Venta' })"
      ]
    },
    {
      "cell_type": "markdown",
      "metadata": {
        "id": "yFhWCoMV96DV"
      },
      "source": [
        "Agrupasmos el Dataframe por Familia de productos, ya que este nos permitira identificar cual es la que más aporta a los ingresos del negocio. Las Familias son : Alimento, Peluquería, Veterinaria, Farmacia, Ladrería y Pet Shop"
      ]
    },
    {
      "cell_type": "code",
      "execution_count": 94,
      "metadata": {
        "colab": {
          "base_uri": "https://localhost:8080/"
        },
        "id": "DHvZ3rZZLjw-",
        "outputId": "408533bd-42d2-44b3-e923-022f5a11843c"
      },
      "outputs": [
        {
          "output_type": "execute_result",
          "data": {
            "text/plain": [
              "array(['PETS SHOP', 'ALIMENTO', 'PELUQUERÍA', 'Veterinaria', 'FARMACIA',\n",
              "       'LADRERÍA', 'Cuidados Pets'], dtype=object)"
            ]
          },
          "metadata": {},
          "execution_count": 94
        }
      ],
      "source": [
        "#hacemos una copia de la data, asegurando que los datos que tome sean mayo que 0 en las ventas\n",
        "df_lmod_FPS = df_lmod.copy()\n",
        "df_lmod_FPS = df_lmod_FPS[(df_lmod_FPS['Subtotal Bruto'] > 0)]\n",
        "df_lmod_FPS = df_lmod_FPS.replace({'Accesorio para perro': 'PETS SHOP', \"Bowl Dog\": 'PETS SHOP', 'Collar':'PETS SHOP', 'CIRUGÍA':'Veterinaria','CIRUGÍA EXTRACCIÓN MASA OCULAR':'Veterinaria','ESTERILIZACIONES Y CASTRACIONES':'Veterinaria','Sin Tipo':'Veterinaria'})\n",
        "df_lmod_FPS['Familia_Producto_Servicio'].unique()"
      ]
    },
    {
      "cell_type": "markdown",
      "metadata": {
        "id": "6tnIT2KXNj2f"
      },
      "source": [
        "##Construeccion de la Familia Alimentos (Alimento, Alimento Perro y Alimento Gato)"
      ]
    },
    {
      "cell_type": "code",
      "execution_count": 95,
      "metadata": {
        "colab": {
          "base_uri": "https://localhost:8080/",
          "height": 250
        },
        "id": "aaUQbpt-BGNK",
        "outputId": "56b13908-c789-4644-face-f48e7a0ee65d"
      },
      "outputs": [
        {
          "output_type": "execute_result",
          "data": {
            "text/plain": [
              "       Sucursal  Numero Documento Fecha_Venta Hora_Venta  \\\n",
              "4   Casa Matriz               3.0  16/12/2016   10:52 AM   \n",
              "7   Casa Matriz               5.0  16/12/2016   01:18 PM   \n",
              "13  Casa Matriz              10.0  16/12/2016   07:52 PM   \n",
              "19  Casa Matriz              14.0  17/12/2016   09:19 AM   \n",
              "37  Casa Matriz              23.0  17/12/2016   03:54 PM   \n",
              "\n",
              "   Familia_Producto_Servicio         SKU  \\\n",
              "4                   ALIMENTO   12295045    \n",
              "7                   ALIMENTO   12294992    \n",
              "13                  ALIMENTO   12294283    \n",
              "19                  ALIMENTO   12294993    \n",
              "37                  ALIMENTO   12294293    \n",
              "\n",
              "                        Producto_Servicio  Cantidad  Subtotal Bruto  \n",
              "4   PRO PLAN DOG DELICATE SMALL BREED 3KG       1.0           14681  \n",
              "7          PRO PLAN DOG EXIGENT SM BR 3KG       1.0           14681  \n",
              "13           PRO PLAN CAT ADULT CAT 3 KGS       1.0           15947  \n",
              "19    PRO PLAN DOG PUPPY SMALL BREED 3 KG       1.0           14319  \n",
              "37            PRO PLAN CAT CAT KITTEN 1KG       1.0            6436  "
            ],
            "text/html": [
              "\n",
              "  <div id=\"df-1baf12c4-c1da-4dc6-b91a-514cfb7dd385\">\n",
              "    <div class=\"colab-df-container\">\n",
              "      <div>\n",
              "<style scoped>\n",
              "    .dataframe tbody tr th:only-of-type {\n",
              "        vertical-align: middle;\n",
              "    }\n",
              "\n",
              "    .dataframe tbody tr th {\n",
              "        vertical-align: top;\n",
              "    }\n",
              "\n",
              "    .dataframe thead th {\n",
              "        text-align: right;\n",
              "    }\n",
              "</style>\n",
              "<table border=\"1\" class=\"dataframe\">\n",
              "  <thead>\n",
              "    <tr style=\"text-align: right;\">\n",
              "      <th></th>\n",
              "      <th>Sucursal</th>\n",
              "      <th>Numero Documento</th>\n",
              "      <th>Fecha_Venta</th>\n",
              "      <th>Hora_Venta</th>\n",
              "      <th>Familia_Producto_Servicio</th>\n",
              "      <th>SKU</th>\n",
              "      <th>Producto_Servicio</th>\n",
              "      <th>Cantidad</th>\n",
              "      <th>Subtotal Bruto</th>\n",
              "    </tr>\n",
              "  </thead>\n",
              "  <tbody>\n",
              "    <tr>\n",
              "      <th>4</th>\n",
              "      <td>Casa Matriz</td>\n",
              "      <td>3.0</td>\n",
              "      <td>16/12/2016</td>\n",
              "      <td>10:52 AM</td>\n",
              "      <td>ALIMENTO</td>\n",
              "      <td>12295045</td>\n",
              "      <td>PRO PLAN DOG DELICATE SMALL BREED 3KG</td>\n",
              "      <td>1.0</td>\n",
              "      <td>14681</td>\n",
              "    </tr>\n",
              "    <tr>\n",
              "      <th>7</th>\n",
              "      <td>Casa Matriz</td>\n",
              "      <td>5.0</td>\n",
              "      <td>16/12/2016</td>\n",
              "      <td>01:18 PM</td>\n",
              "      <td>ALIMENTO</td>\n",
              "      <td>12294992</td>\n",
              "      <td>PRO PLAN DOG EXIGENT SM BR 3KG</td>\n",
              "      <td>1.0</td>\n",
              "      <td>14681</td>\n",
              "    </tr>\n",
              "    <tr>\n",
              "      <th>13</th>\n",
              "      <td>Casa Matriz</td>\n",
              "      <td>10.0</td>\n",
              "      <td>16/12/2016</td>\n",
              "      <td>07:52 PM</td>\n",
              "      <td>ALIMENTO</td>\n",
              "      <td>12294283</td>\n",
              "      <td>PRO PLAN CAT ADULT CAT 3 KGS</td>\n",
              "      <td>1.0</td>\n",
              "      <td>15947</td>\n",
              "    </tr>\n",
              "    <tr>\n",
              "      <th>19</th>\n",
              "      <td>Casa Matriz</td>\n",
              "      <td>14.0</td>\n",
              "      <td>17/12/2016</td>\n",
              "      <td>09:19 AM</td>\n",
              "      <td>ALIMENTO</td>\n",
              "      <td>12294993</td>\n",
              "      <td>PRO PLAN DOG PUPPY SMALL BREED 3 KG</td>\n",
              "      <td>1.0</td>\n",
              "      <td>14319</td>\n",
              "    </tr>\n",
              "    <tr>\n",
              "      <th>37</th>\n",
              "      <td>Casa Matriz</td>\n",
              "      <td>23.0</td>\n",
              "      <td>17/12/2016</td>\n",
              "      <td>03:54 PM</td>\n",
              "      <td>ALIMENTO</td>\n",
              "      <td>12294293</td>\n",
              "      <td>PRO PLAN CAT CAT KITTEN 1KG</td>\n",
              "      <td>1.0</td>\n",
              "      <td>6436</td>\n",
              "    </tr>\n",
              "  </tbody>\n",
              "</table>\n",
              "</div>\n",
              "      <button class=\"colab-df-convert\" onclick=\"convertToInteractive('df-1baf12c4-c1da-4dc6-b91a-514cfb7dd385')\"\n",
              "              title=\"Convert this dataframe to an interactive table.\"\n",
              "              style=\"display:none;\">\n",
              "        \n",
              "  <svg xmlns=\"http://www.w3.org/2000/svg\" height=\"24px\"viewBox=\"0 0 24 24\"\n",
              "       width=\"24px\">\n",
              "    <path d=\"M0 0h24v24H0V0z\" fill=\"none\"/>\n",
              "    <path d=\"M18.56 5.44l.94 2.06.94-2.06 2.06-.94-2.06-.94-.94-2.06-.94 2.06-2.06.94zm-11 1L8.5 8.5l.94-2.06 2.06-.94-2.06-.94L8.5 2.5l-.94 2.06-2.06.94zm10 10l.94 2.06.94-2.06 2.06-.94-2.06-.94-.94-2.06-.94 2.06-2.06.94z\"/><path d=\"M17.41 7.96l-1.37-1.37c-.4-.4-.92-.59-1.43-.59-.52 0-1.04.2-1.43.59L10.3 9.45l-7.72 7.72c-.78.78-.78 2.05 0 2.83L4 21.41c.39.39.9.59 1.41.59.51 0 1.02-.2 1.41-.59l7.78-7.78 2.81-2.81c.8-.78.8-2.07 0-2.86zM5.41 20L4 18.59l7.72-7.72 1.47 1.35L5.41 20z\"/>\n",
              "  </svg>\n",
              "      </button>\n",
              "      \n",
              "  <style>\n",
              "    .colab-df-container {\n",
              "      display:flex;\n",
              "      flex-wrap:wrap;\n",
              "      gap: 12px;\n",
              "    }\n",
              "\n",
              "    .colab-df-convert {\n",
              "      background-color: #E8F0FE;\n",
              "      border: none;\n",
              "      border-radius: 50%;\n",
              "      cursor: pointer;\n",
              "      display: none;\n",
              "      fill: #1967D2;\n",
              "      height: 32px;\n",
              "      padding: 0 0 0 0;\n",
              "      width: 32px;\n",
              "    }\n",
              "\n",
              "    .colab-df-convert:hover {\n",
              "      background-color: #E2EBFA;\n",
              "      box-shadow: 0px 1px 2px rgba(60, 64, 67, 0.3), 0px 1px 3px 1px rgba(60, 64, 67, 0.15);\n",
              "      fill: #174EA6;\n",
              "    }\n",
              "\n",
              "    [theme=dark] .colab-df-convert {\n",
              "      background-color: #3B4455;\n",
              "      fill: #D2E3FC;\n",
              "    }\n",
              "\n",
              "    [theme=dark] .colab-df-convert:hover {\n",
              "      background-color: #434B5C;\n",
              "      box-shadow: 0px 1px 3px 1px rgba(0, 0, 0, 0.15);\n",
              "      filter: drop-shadow(0px 1px 2px rgba(0, 0, 0, 0.3));\n",
              "      fill: #FFFFFF;\n",
              "    }\n",
              "  </style>\n",
              "\n",
              "      <script>\n",
              "        const buttonEl =\n",
              "          document.querySelector('#df-1baf12c4-c1da-4dc6-b91a-514cfb7dd385 button.colab-df-convert');\n",
              "        buttonEl.style.display =\n",
              "          google.colab.kernel.accessAllowed ? 'block' : 'none';\n",
              "\n",
              "        async function convertToInteractive(key) {\n",
              "          const element = document.querySelector('#df-1baf12c4-c1da-4dc6-b91a-514cfb7dd385');\n",
              "          const dataTable =\n",
              "            await google.colab.kernel.invokeFunction('convertToInteractive',\n",
              "                                                     [key], {});\n",
              "          if (!dataTable) return;\n",
              "\n",
              "          const docLinkHtml = 'Like what you see? Visit the ' +\n",
              "            '<a target=\"_blank\" href=https://colab.research.google.com/notebooks/data_table.ipynb>data table notebook</a>'\n",
              "            + ' to learn more about interactive tables.';\n",
              "          element.innerHTML = '';\n",
              "          dataTable['output_type'] = 'display_data';\n",
              "          await google.colab.output.renderOutput(dataTable, element);\n",
              "          const docLink = document.createElement('div');\n",
              "          docLink.innerHTML = docLinkHtml;\n",
              "          element.appendChild(docLink);\n",
              "        }\n",
              "      </script>\n",
              "    </div>\n",
              "  </div>\n",
              "  "
            ]
          },
          "metadata": {},
          "execution_count": 95
        }
      ],
      "source": [
        "#hacemos una copia de la data que contenga solo alimentos, asegurando que los datos que tome sean mayo que 0 en las ventas\n",
        "\n",
        "df_lmod_Al = df_lmod_FPS[(df_lmod_FPS.Familia_Producto_Servicio == 'ALIMENTO')&(df_lmod_FPS['Subtotal Bruto'] > 0)]\n",
        "df_lmod_Al.head()"
      ]
    },
    {
      "cell_type": "code",
      "execution_count": 96,
      "metadata": {
        "colab": {
          "base_uri": "https://localhost:8080/"
        },
        "id": "ye_kURwqCbcW",
        "outputId": "f5c79661-7ac5-4c78-9f60-dae8b98aba7a"
      },
      "outputs": [
        {
          "output_type": "execute_result",
          "data": {
            "text/plain": [
              "array(['ALIMENTO'], dtype=object)"
            ]
          },
          "metadata": {},
          "execution_count": 96
        }
      ],
      "source": [
        "df_lmod_Al.Familia_Producto_Servicio.unique()"
      ]
    },
    {
      "cell_type": "markdown",
      "metadata": {
        "id": "k2Ynrf0QU3Yc"
      },
      "source": [
        "Ordenamos las fechas, dentro de la data"
      ]
    },
    {
      "cell_type": "code",
      "source": [
        "import datetime\n",
        "df_lmod_Al['Fecha_Venta']= pd.to_datetime(df_lmod_Al['Fecha_Venta']) "
      ],
      "metadata": {
        "colab": {
          "base_uri": "https://localhost:8080/"
        },
        "id": "HGfISPAVZ4X0",
        "outputId": "2cf19269-0bdc-420f-b101-b2eb46d837e0"
      },
      "execution_count": 97,
      "outputs": [
        {
          "output_type": "stream",
          "name": "stderr",
          "text": [
            "/usr/local/lib/python3.7/dist-packages/ipykernel_launcher.py:2: SettingWithCopyWarning: \n",
            "A value is trying to be set on a copy of a slice from a DataFrame.\n",
            "Try using .loc[row_indexer,col_indexer] = value instead\n",
            "\n",
            "See the caveats in the documentation: https://pandas.pydata.org/pandas-docs/stable/user_guide/indexing.html#returning-a-view-versus-a-copy\n",
            "  \n"
          ]
        }
      ]
    },
    {
      "cell_type": "code",
      "execution_count": 98,
      "metadata": {
        "id": "J1NGjlTnU1m4"
      },
      "outputs": [],
      "source": [
        "df_lmod_Al_sort=df_lmod_Al.sort_values(by=['Fecha_Venta'])"
      ]
    },
    {
      "cell_type": "code",
      "source": [
        "df_lmod_Al_sort.info()"
      ],
      "metadata": {
        "colab": {
          "base_uri": "https://localhost:8080/"
        },
        "id": "pnhfYyOgamze",
        "outputId": "a4fcaa9c-eac7-43ad-de0f-db110b0c8788"
      },
      "execution_count": 99,
      "outputs": [
        {
          "output_type": "stream",
          "name": "stdout",
          "text": [
            "<class 'pandas.core.frame.DataFrame'>\n",
            "Int64Index: 25861 entries, 4 to 78058\n",
            "Data columns (total 9 columns):\n",
            " #   Column                     Non-Null Count  Dtype         \n",
            "---  ------                     --------------  -----         \n",
            " 0   Sucursal                   25861 non-null  object        \n",
            " 1   Numero Documento           25861 non-null  float64       \n",
            " 2   Fecha_Venta                25861 non-null  datetime64[ns]\n",
            " 3   Hora_Venta                 25861 non-null  object        \n",
            " 4   Familia_Producto_Servicio  25861 non-null  object        \n",
            " 5   SKU                        25861 non-null  object        \n",
            " 6   Producto_Servicio          25861 non-null  object        \n",
            " 7   Cantidad                   25861 non-null  float64       \n",
            " 8   Subtotal Bruto             25861 non-null  int64         \n",
            "dtypes: datetime64[ns](1), float64(2), int64(1), object(5)\n",
            "memory usage: 2.0+ MB\n"
          ]
        }
      ]
    },
    {
      "cell_type": "markdown",
      "metadata": {
        "id": "OSY8r4UzOQ-m"
      },
      "source": [
        "Separamos entre alimentos de gatos y perro, usando palabras claves que se encuentran presentes en los nombres de cada alimento"
      ]
    },
    {
      "cell_type": "code",
      "execution_count": 100,
      "metadata": {
        "id": "MSxYjCSMSbFj"
      },
      "outputs": [],
      "source": [
        "df_al_perro = df_lmod_Al_sort[(df_lmod_Al_sort.Producto_Servicio.str.contains(' DOG | PERRO | PUPPY | CACHORRO | PEDIGREE | Excellent | CACHUPIN | EXCELLENT'))]\n",
        "df_al_gato = df_lmod_Al_sort[(df_lmod_Al_sort.Producto_Servicio.str.contains(' GATO | CAT | KITTEN | FELINE | GATI '))]"
      ]
    },
    {
      "cell_type": "code",
      "execution_count": 101,
      "metadata": {
        "colab": {
          "base_uri": "https://localhost:8080/",
          "height": 250
        },
        "id": "zOqbJxqc4p5R",
        "outputId": "3d198384-c40d-4ff1-df80-3e8b078226ce"
      },
      "outputs": [
        {
          "output_type": "execute_result",
          "data": {
            "text/plain": [
              "       Sucursal  Numero Documento Fecha_Venta Hora_Venta  \\\n",
              "4   Casa Matriz               3.0  2016-12-16   10:52 AM   \n",
              "7   Casa Matriz               5.0  2016-12-16   01:18 PM   \n",
              "19  Casa Matriz              14.0  2016-12-17   09:19 AM   \n",
              "40  Casa Matriz              24.0  2016-12-17   04:24 PM   \n",
              "44  Casa Matriz              28.0  2016-12-17   06:20 PM   \n",
              "\n",
              "   Familia_Producto_Servicio         SKU  \\\n",
              "4                   ALIMENTO   12295045    \n",
              "7                   ALIMENTO   12294992    \n",
              "19                  ALIMENTO   12294993    \n",
              "40                  ALIMENTO   12294993    \n",
              "44                  ALIMENTO   12294994    \n",
              "\n",
              "                        Producto_Servicio  Cantidad  Subtotal Bruto  \n",
              "4   PRO PLAN DOG DELICATE SMALL BREED 3KG       1.0           14681  \n",
              "7          PRO PLAN DOG EXIGENT SM BR 3KG       1.0           14681  \n",
              "19    PRO PLAN DOG PUPPY SMALL BREED 3 KG       1.0           14319  \n",
              "40    PRO PLAN DOG PUPPY SMALL BREED 3 KG       1.0           14319  \n",
              "44    PRO PLAN DOG PUPPY SMALL BREED 1 KG       1.0            5428  "
            ],
            "text/html": [
              "\n",
              "  <div id=\"df-76512866-d6ea-4ad9-916d-6164ae3d0fc6\">\n",
              "    <div class=\"colab-df-container\">\n",
              "      <div>\n",
              "<style scoped>\n",
              "    .dataframe tbody tr th:only-of-type {\n",
              "        vertical-align: middle;\n",
              "    }\n",
              "\n",
              "    .dataframe tbody tr th {\n",
              "        vertical-align: top;\n",
              "    }\n",
              "\n",
              "    .dataframe thead th {\n",
              "        text-align: right;\n",
              "    }\n",
              "</style>\n",
              "<table border=\"1\" class=\"dataframe\">\n",
              "  <thead>\n",
              "    <tr style=\"text-align: right;\">\n",
              "      <th></th>\n",
              "      <th>Sucursal</th>\n",
              "      <th>Numero Documento</th>\n",
              "      <th>Fecha_Venta</th>\n",
              "      <th>Hora_Venta</th>\n",
              "      <th>Familia_Producto_Servicio</th>\n",
              "      <th>SKU</th>\n",
              "      <th>Producto_Servicio</th>\n",
              "      <th>Cantidad</th>\n",
              "      <th>Subtotal Bruto</th>\n",
              "    </tr>\n",
              "  </thead>\n",
              "  <tbody>\n",
              "    <tr>\n",
              "      <th>4</th>\n",
              "      <td>Casa Matriz</td>\n",
              "      <td>3.0</td>\n",
              "      <td>2016-12-16</td>\n",
              "      <td>10:52 AM</td>\n",
              "      <td>ALIMENTO</td>\n",
              "      <td>12295045</td>\n",
              "      <td>PRO PLAN DOG DELICATE SMALL BREED 3KG</td>\n",
              "      <td>1.0</td>\n",
              "      <td>14681</td>\n",
              "    </tr>\n",
              "    <tr>\n",
              "      <th>7</th>\n",
              "      <td>Casa Matriz</td>\n",
              "      <td>5.0</td>\n",
              "      <td>2016-12-16</td>\n",
              "      <td>01:18 PM</td>\n",
              "      <td>ALIMENTO</td>\n",
              "      <td>12294992</td>\n",
              "      <td>PRO PLAN DOG EXIGENT SM BR 3KG</td>\n",
              "      <td>1.0</td>\n",
              "      <td>14681</td>\n",
              "    </tr>\n",
              "    <tr>\n",
              "      <th>19</th>\n",
              "      <td>Casa Matriz</td>\n",
              "      <td>14.0</td>\n",
              "      <td>2016-12-17</td>\n",
              "      <td>09:19 AM</td>\n",
              "      <td>ALIMENTO</td>\n",
              "      <td>12294993</td>\n",
              "      <td>PRO PLAN DOG PUPPY SMALL BREED 3 KG</td>\n",
              "      <td>1.0</td>\n",
              "      <td>14319</td>\n",
              "    </tr>\n",
              "    <tr>\n",
              "      <th>40</th>\n",
              "      <td>Casa Matriz</td>\n",
              "      <td>24.0</td>\n",
              "      <td>2016-12-17</td>\n",
              "      <td>04:24 PM</td>\n",
              "      <td>ALIMENTO</td>\n",
              "      <td>12294993</td>\n",
              "      <td>PRO PLAN DOG PUPPY SMALL BREED 3 KG</td>\n",
              "      <td>1.0</td>\n",
              "      <td>14319</td>\n",
              "    </tr>\n",
              "    <tr>\n",
              "      <th>44</th>\n",
              "      <td>Casa Matriz</td>\n",
              "      <td>28.0</td>\n",
              "      <td>2016-12-17</td>\n",
              "      <td>06:20 PM</td>\n",
              "      <td>ALIMENTO</td>\n",
              "      <td>12294994</td>\n",
              "      <td>PRO PLAN DOG PUPPY SMALL BREED 1 KG</td>\n",
              "      <td>1.0</td>\n",
              "      <td>5428</td>\n",
              "    </tr>\n",
              "  </tbody>\n",
              "</table>\n",
              "</div>\n",
              "      <button class=\"colab-df-convert\" onclick=\"convertToInteractive('df-76512866-d6ea-4ad9-916d-6164ae3d0fc6')\"\n",
              "              title=\"Convert this dataframe to an interactive table.\"\n",
              "              style=\"display:none;\">\n",
              "        \n",
              "  <svg xmlns=\"http://www.w3.org/2000/svg\" height=\"24px\"viewBox=\"0 0 24 24\"\n",
              "       width=\"24px\">\n",
              "    <path d=\"M0 0h24v24H0V0z\" fill=\"none\"/>\n",
              "    <path d=\"M18.56 5.44l.94 2.06.94-2.06 2.06-.94-2.06-.94-.94-2.06-.94 2.06-2.06.94zm-11 1L8.5 8.5l.94-2.06 2.06-.94-2.06-.94L8.5 2.5l-.94 2.06-2.06.94zm10 10l.94 2.06.94-2.06 2.06-.94-2.06-.94-.94-2.06-.94 2.06-2.06.94z\"/><path d=\"M17.41 7.96l-1.37-1.37c-.4-.4-.92-.59-1.43-.59-.52 0-1.04.2-1.43.59L10.3 9.45l-7.72 7.72c-.78.78-.78 2.05 0 2.83L4 21.41c.39.39.9.59 1.41.59.51 0 1.02-.2 1.41-.59l7.78-7.78 2.81-2.81c.8-.78.8-2.07 0-2.86zM5.41 20L4 18.59l7.72-7.72 1.47 1.35L5.41 20z\"/>\n",
              "  </svg>\n",
              "      </button>\n",
              "      \n",
              "  <style>\n",
              "    .colab-df-container {\n",
              "      display:flex;\n",
              "      flex-wrap:wrap;\n",
              "      gap: 12px;\n",
              "    }\n",
              "\n",
              "    .colab-df-convert {\n",
              "      background-color: #E8F0FE;\n",
              "      border: none;\n",
              "      border-radius: 50%;\n",
              "      cursor: pointer;\n",
              "      display: none;\n",
              "      fill: #1967D2;\n",
              "      height: 32px;\n",
              "      padding: 0 0 0 0;\n",
              "      width: 32px;\n",
              "    }\n",
              "\n",
              "    .colab-df-convert:hover {\n",
              "      background-color: #E2EBFA;\n",
              "      box-shadow: 0px 1px 2px rgba(60, 64, 67, 0.3), 0px 1px 3px 1px rgba(60, 64, 67, 0.15);\n",
              "      fill: #174EA6;\n",
              "    }\n",
              "\n",
              "    [theme=dark] .colab-df-convert {\n",
              "      background-color: #3B4455;\n",
              "      fill: #D2E3FC;\n",
              "    }\n",
              "\n",
              "    [theme=dark] .colab-df-convert:hover {\n",
              "      background-color: #434B5C;\n",
              "      box-shadow: 0px 1px 3px 1px rgba(0, 0, 0, 0.15);\n",
              "      filter: drop-shadow(0px 1px 2px rgba(0, 0, 0, 0.3));\n",
              "      fill: #FFFFFF;\n",
              "    }\n",
              "  </style>\n",
              "\n",
              "      <script>\n",
              "        const buttonEl =\n",
              "          document.querySelector('#df-76512866-d6ea-4ad9-916d-6164ae3d0fc6 button.colab-df-convert');\n",
              "        buttonEl.style.display =\n",
              "          google.colab.kernel.accessAllowed ? 'block' : 'none';\n",
              "\n",
              "        async function convertToInteractive(key) {\n",
              "          const element = document.querySelector('#df-76512866-d6ea-4ad9-916d-6164ae3d0fc6');\n",
              "          const dataTable =\n",
              "            await google.colab.kernel.invokeFunction('convertToInteractive',\n",
              "                                                     [key], {});\n",
              "          if (!dataTable) return;\n",
              "\n",
              "          const docLinkHtml = 'Like what you see? Visit the ' +\n",
              "            '<a target=\"_blank\" href=https://colab.research.google.com/notebooks/data_table.ipynb>data table notebook</a>'\n",
              "            + ' to learn more about interactive tables.';\n",
              "          element.innerHTML = '';\n",
              "          dataTable['output_type'] = 'display_data';\n",
              "          await google.colab.output.renderOutput(dataTable, element);\n",
              "          const docLink = document.createElement('div');\n",
              "          docLink.innerHTML = docLinkHtml;\n",
              "          element.appendChild(docLink);\n",
              "        }\n",
              "      </script>\n",
              "    </div>\n",
              "  </div>\n",
              "  "
            ]
          },
          "metadata": {},
          "execution_count": 101
        }
      ],
      "source": [
        "df_al_perro.head()"
      ]
    },
    {
      "cell_type": "code",
      "execution_count": 102,
      "metadata": {
        "colab": {
          "base_uri": "https://localhost:8080/",
          "height": 206
        },
        "id": "Qmz_opSCW2qS",
        "outputId": "9aed9be5-0c6d-4fe4-ea64-d1cf2f4f21a7"
      },
      "outputs": [
        {
          "output_type": "execute_result",
          "data": {
            "text/plain": [
              "        Sucursal  Numero Documento Fecha_Venta Hora_Venta  \\\n",
              "13   Casa Matriz              10.0  2016-12-16   07:52 PM   \n",
              "37   Casa Matriz              23.0  2016-12-17   03:54 PM   \n",
              "113  Casa Matriz              80.0  2016-12-20   10:17 PM   \n",
              "142  Casa Matriz              96.0  2016-12-21   08:39 PM   \n",
              "146  Casa Matriz              99.0  2016-12-22   10:58 AM   \n",
              "\n",
              "    Familia_Producto_Servicio         SKU             Producto_Servicio  \\\n",
              "13                   ALIMENTO   12294283   PRO PLAN CAT ADULT CAT 3 KGS   \n",
              "37                   ALIMENTO   12294293    PRO PLAN CAT CAT KITTEN 1KG   \n",
              "113                  ALIMENTO   12294293    PRO PLAN CAT CAT KITTEN 1KG   \n",
              "142                  ALIMENTO   12294293    PRO PLAN CAT CAT KITTEN 1KG   \n",
              "146                  ALIMENTO   12294320       PRO PLAN CAT URINARY 3KG   \n",
              "\n",
              "     Cantidad  Subtotal Bruto  \n",
              "13        1.0           15947  \n",
              "37        1.0            6436  \n",
              "113       1.0            6436  \n",
              "142       1.0            6436  \n",
              "146       1.0            5951  "
            ],
            "text/html": [
              "\n",
              "  <div id=\"df-f36df2a5-0272-4b8d-89e0-683dfb879832\">\n",
              "    <div class=\"colab-df-container\">\n",
              "      <div>\n",
              "<style scoped>\n",
              "    .dataframe tbody tr th:only-of-type {\n",
              "        vertical-align: middle;\n",
              "    }\n",
              "\n",
              "    .dataframe tbody tr th {\n",
              "        vertical-align: top;\n",
              "    }\n",
              "\n",
              "    .dataframe thead th {\n",
              "        text-align: right;\n",
              "    }\n",
              "</style>\n",
              "<table border=\"1\" class=\"dataframe\">\n",
              "  <thead>\n",
              "    <tr style=\"text-align: right;\">\n",
              "      <th></th>\n",
              "      <th>Sucursal</th>\n",
              "      <th>Numero Documento</th>\n",
              "      <th>Fecha_Venta</th>\n",
              "      <th>Hora_Venta</th>\n",
              "      <th>Familia_Producto_Servicio</th>\n",
              "      <th>SKU</th>\n",
              "      <th>Producto_Servicio</th>\n",
              "      <th>Cantidad</th>\n",
              "      <th>Subtotal Bruto</th>\n",
              "    </tr>\n",
              "  </thead>\n",
              "  <tbody>\n",
              "    <tr>\n",
              "      <th>13</th>\n",
              "      <td>Casa Matriz</td>\n",
              "      <td>10.0</td>\n",
              "      <td>2016-12-16</td>\n",
              "      <td>07:52 PM</td>\n",
              "      <td>ALIMENTO</td>\n",
              "      <td>12294283</td>\n",
              "      <td>PRO PLAN CAT ADULT CAT 3 KGS</td>\n",
              "      <td>1.0</td>\n",
              "      <td>15947</td>\n",
              "    </tr>\n",
              "    <tr>\n",
              "      <th>37</th>\n",
              "      <td>Casa Matriz</td>\n",
              "      <td>23.0</td>\n",
              "      <td>2016-12-17</td>\n",
              "      <td>03:54 PM</td>\n",
              "      <td>ALIMENTO</td>\n",
              "      <td>12294293</td>\n",
              "      <td>PRO PLAN CAT CAT KITTEN 1KG</td>\n",
              "      <td>1.0</td>\n",
              "      <td>6436</td>\n",
              "    </tr>\n",
              "    <tr>\n",
              "      <th>113</th>\n",
              "      <td>Casa Matriz</td>\n",
              "      <td>80.0</td>\n",
              "      <td>2016-12-20</td>\n",
              "      <td>10:17 PM</td>\n",
              "      <td>ALIMENTO</td>\n",
              "      <td>12294293</td>\n",
              "      <td>PRO PLAN CAT CAT KITTEN 1KG</td>\n",
              "      <td>1.0</td>\n",
              "      <td>6436</td>\n",
              "    </tr>\n",
              "    <tr>\n",
              "      <th>142</th>\n",
              "      <td>Casa Matriz</td>\n",
              "      <td>96.0</td>\n",
              "      <td>2016-12-21</td>\n",
              "      <td>08:39 PM</td>\n",
              "      <td>ALIMENTO</td>\n",
              "      <td>12294293</td>\n",
              "      <td>PRO PLAN CAT CAT KITTEN 1KG</td>\n",
              "      <td>1.0</td>\n",
              "      <td>6436</td>\n",
              "    </tr>\n",
              "    <tr>\n",
              "      <th>146</th>\n",
              "      <td>Casa Matriz</td>\n",
              "      <td>99.0</td>\n",
              "      <td>2016-12-22</td>\n",
              "      <td>10:58 AM</td>\n",
              "      <td>ALIMENTO</td>\n",
              "      <td>12294320</td>\n",
              "      <td>PRO PLAN CAT URINARY 3KG</td>\n",
              "      <td>1.0</td>\n",
              "      <td>5951</td>\n",
              "    </tr>\n",
              "  </tbody>\n",
              "</table>\n",
              "</div>\n",
              "      <button class=\"colab-df-convert\" onclick=\"convertToInteractive('df-f36df2a5-0272-4b8d-89e0-683dfb879832')\"\n",
              "              title=\"Convert this dataframe to an interactive table.\"\n",
              "              style=\"display:none;\">\n",
              "        \n",
              "  <svg xmlns=\"http://www.w3.org/2000/svg\" height=\"24px\"viewBox=\"0 0 24 24\"\n",
              "       width=\"24px\">\n",
              "    <path d=\"M0 0h24v24H0V0z\" fill=\"none\"/>\n",
              "    <path d=\"M18.56 5.44l.94 2.06.94-2.06 2.06-.94-2.06-.94-.94-2.06-.94 2.06-2.06.94zm-11 1L8.5 8.5l.94-2.06 2.06-.94-2.06-.94L8.5 2.5l-.94 2.06-2.06.94zm10 10l.94 2.06.94-2.06 2.06-.94-2.06-.94-.94-2.06-.94 2.06-2.06.94z\"/><path d=\"M17.41 7.96l-1.37-1.37c-.4-.4-.92-.59-1.43-.59-.52 0-1.04.2-1.43.59L10.3 9.45l-7.72 7.72c-.78.78-.78 2.05 0 2.83L4 21.41c.39.39.9.59 1.41.59.51 0 1.02-.2 1.41-.59l7.78-7.78 2.81-2.81c.8-.78.8-2.07 0-2.86zM5.41 20L4 18.59l7.72-7.72 1.47 1.35L5.41 20z\"/>\n",
              "  </svg>\n",
              "      </button>\n",
              "      \n",
              "  <style>\n",
              "    .colab-df-container {\n",
              "      display:flex;\n",
              "      flex-wrap:wrap;\n",
              "      gap: 12px;\n",
              "    }\n",
              "\n",
              "    .colab-df-convert {\n",
              "      background-color: #E8F0FE;\n",
              "      border: none;\n",
              "      border-radius: 50%;\n",
              "      cursor: pointer;\n",
              "      display: none;\n",
              "      fill: #1967D2;\n",
              "      height: 32px;\n",
              "      padding: 0 0 0 0;\n",
              "      width: 32px;\n",
              "    }\n",
              "\n",
              "    .colab-df-convert:hover {\n",
              "      background-color: #E2EBFA;\n",
              "      box-shadow: 0px 1px 2px rgba(60, 64, 67, 0.3), 0px 1px 3px 1px rgba(60, 64, 67, 0.15);\n",
              "      fill: #174EA6;\n",
              "    }\n",
              "\n",
              "    [theme=dark] .colab-df-convert {\n",
              "      background-color: #3B4455;\n",
              "      fill: #D2E3FC;\n",
              "    }\n",
              "\n",
              "    [theme=dark] .colab-df-convert:hover {\n",
              "      background-color: #434B5C;\n",
              "      box-shadow: 0px 1px 3px 1px rgba(0, 0, 0, 0.15);\n",
              "      filter: drop-shadow(0px 1px 2px rgba(0, 0, 0, 0.3));\n",
              "      fill: #FFFFFF;\n",
              "    }\n",
              "  </style>\n",
              "\n",
              "      <script>\n",
              "        const buttonEl =\n",
              "          document.querySelector('#df-f36df2a5-0272-4b8d-89e0-683dfb879832 button.colab-df-convert');\n",
              "        buttonEl.style.display =\n",
              "          google.colab.kernel.accessAllowed ? 'block' : 'none';\n",
              "\n",
              "        async function convertToInteractive(key) {\n",
              "          const element = document.querySelector('#df-f36df2a5-0272-4b8d-89e0-683dfb879832');\n",
              "          const dataTable =\n",
              "            await google.colab.kernel.invokeFunction('convertToInteractive',\n",
              "                                                     [key], {});\n",
              "          if (!dataTable) return;\n",
              "\n",
              "          const docLinkHtml = 'Like what you see? Visit the ' +\n",
              "            '<a target=\"_blank\" href=https://colab.research.google.com/notebooks/data_table.ipynb>data table notebook</a>'\n",
              "            + ' to learn more about interactive tables.';\n",
              "          element.innerHTML = '';\n",
              "          dataTable['output_type'] = 'display_data';\n",
              "          await google.colab.output.renderOutput(dataTable, element);\n",
              "          const docLink = document.createElement('div');\n",
              "          docLink.innerHTML = docLinkHtml;\n",
              "          element.appendChild(docLink);\n",
              "        }\n",
              "      </script>\n",
              "    </div>\n",
              "  </div>\n",
              "  "
            ]
          },
          "metadata": {},
          "execution_count": 102
        }
      ],
      "source": [
        "df_al_gato.head()"
      ]
    },
    {
      "cell_type": "code",
      "source": [
        "df_al_gato.describe()"
      ],
      "metadata": {
        "colab": {
          "base_uri": "https://localhost:8080/",
          "height": 300
        },
        "id": "eoOK9k0pPF1H",
        "outputId": "b8c50572-f8ca-499c-e487-d5ca7d0bac9b"
      },
      "execution_count": 103,
      "outputs": [
        {
          "output_type": "execute_result",
          "data": {
            "text/plain": [
              "       Numero Documento     Cantidad  Subtotal Bruto\n",
              "count       4616.000000  4616.000000     4616.000000\n",
              "mean       29924.360052     1.712088    20645.803943\n",
              "std        11242.179153     3.939201    15075.249090\n",
              "min           10.000000     1.000000      700.000000\n",
              "25%        25638.000000     1.000000     9990.000000\n",
              "50%        32115.500000     1.000000    17990.000000\n",
              "75%        37564.000000     1.000000    24990.000000\n",
              "max        46014.000000   120.000000   180000.000000"
            ],
            "text/html": [
              "\n",
              "  <div id=\"df-03cf6188-b5e4-4628-9d78-756514b1723b\">\n",
              "    <div class=\"colab-df-container\">\n",
              "      <div>\n",
              "<style scoped>\n",
              "    .dataframe tbody tr th:only-of-type {\n",
              "        vertical-align: middle;\n",
              "    }\n",
              "\n",
              "    .dataframe tbody tr th {\n",
              "        vertical-align: top;\n",
              "    }\n",
              "\n",
              "    .dataframe thead th {\n",
              "        text-align: right;\n",
              "    }\n",
              "</style>\n",
              "<table border=\"1\" class=\"dataframe\">\n",
              "  <thead>\n",
              "    <tr style=\"text-align: right;\">\n",
              "      <th></th>\n",
              "      <th>Numero Documento</th>\n",
              "      <th>Cantidad</th>\n",
              "      <th>Subtotal Bruto</th>\n",
              "    </tr>\n",
              "  </thead>\n",
              "  <tbody>\n",
              "    <tr>\n",
              "      <th>count</th>\n",
              "      <td>4616.000000</td>\n",
              "      <td>4616.000000</td>\n",
              "      <td>4616.000000</td>\n",
              "    </tr>\n",
              "    <tr>\n",
              "      <th>mean</th>\n",
              "      <td>29924.360052</td>\n",
              "      <td>1.712088</td>\n",
              "      <td>20645.803943</td>\n",
              "    </tr>\n",
              "    <tr>\n",
              "      <th>std</th>\n",
              "      <td>11242.179153</td>\n",
              "      <td>3.939201</td>\n",
              "      <td>15075.249090</td>\n",
              "    </tr>\n",
              "    <tr>\n",
              "      <th>min</th>\n",
              "      <td>10.000000</td>\n",
              "      <td>1.000000</td>\n",
              "      <td>700.000000</td>\n",
              "    </tr>\n",
              "    <tr>\n",
              "      <th>25%</th>\n",
              "      <td>25638.000000</td>\n",
              "      <td>1.000000</td>\n",
              "      <td>9990.000000</td>\n",
              "    </tr>\n",
              "    <tr>\n",
              "      <th>50%</th>\n",
              "      <td>32115.500000</td>\n",
              "      <td>1.000000</td>\n",
              "      <td>17990.000000</td>\n",
              "    </tr>\n",
              "    <tr>\n",
              "      <th>75%</th>\n",
              "      <td>37564.000000</td>\n",
              "      <td>1.000000</td>\n",
              "      <td>24990.000000</td>\n",
              "    </tr>\n",
              "    <tr>\n",
              "      <th>max</th>\n",
              "      <td>46014.000000</td>\n",
              "      <td>120.000000</td>\n",
              "      <td>180000.000000</td>\n",
              "    </tr>\n",
              "  </tbody>\n",
              "</table>\n",
              "</div>\n",
              "      <button class=\"colab-df-convert\" onclick=\"convertToInteractive('df-03cf6188-b5e4-4628-9d78-756514b1723b')\"\n",
              "              title=\"Convert this dataframe to an interactive table.\"\n",
              "              style=\"display:none;\">\n",
              "        \n",
              "  <svg xmlns=\"http://www.w3.org/2000/svg\" height=\"24px\"viewBox=\"0 0 24 24\"\n",
              "       width=\"24px\">\n",
              "    <path d=\"M0 0h24v24H0V0z\" fill=\"none\"/>\n",
              "    <path d=\"M18.56 5.44l.94 2.06.94-2.06 2.06-.94-2.06-.94-.94-2.06-.94 2.06-2.06.94zm-11 1L8.5 8.5l.94-2.06 2.06-.94-2.06-.94L8.5 2.5l-.94 2.06-2.06.94zm10 10l.94 2.06.94-2.06 2.06-.94-2.06-.94-.94-2.06-.94 2.06-2.06.94z\"/><path d=\"M17.41 7.96l-1.37-1.37c-.4-.4-.92-.59-1.43-.59-.52 0-1.04.2-1.43.59L10.3 9.45l-7.72 7.72c-.78.78-.78 2.05 0 2.83L4 21.41c.39.39.9.59 1.41.59.51 0 1.02-.2 1.41-.59l7.78-7.78 2.81-2.81c.8-.78.8-2.07 0-2.86zM5.41 20L4 18.59l7.72-7.72 1.47 1.35L5.41 20z\"/>\n",
              "  </svg>\n",
              "      </button>\n",
              "      \n",
              "  <style>\n",
              "    .colab-df-container {\n",
              "      display:flex;\n",
              "      flex-wrap:wrap;\n",
              "      gap: 12px;\n",
              "    }\n",
              "\n",
              "    .colab-df-convert {\n",
              "      background-color: #E8F0FE;\n",
              "      border: none;\n",
              "      border-radius: 50%;\n",
              "      cursor: pointer;\n",
              "      display: none;\n",
              "      fill: #1967D2;\n",
              "      height: 32px;\n",
              "      padding: 0 0 0 0;\n",
              "      width: 32px;\n",
              "    }\n",
              "\n",
              "    .colab-df-convert:hover {\n",
              "      background-color: #E2EBFA;\n",
              "      box-shadow: 0px 1px 2px rgba(60, 64, 67, 0.3), 0px 1px 3px 1px rgba(60, 64, 67, 0.15);\n",
              "      fill: #174EA6;\n",
              "    }\n",
              "\n",
              "    [theme=dark] .colab-df-convert {\n",
              "      background-color: #3B4455;\n",
              "      fill: #D2E3FC;\n",
              "    }\n",
              "\n",
              "    [theme=dark] .colab-df-convert:hover {\n",
              "      background-color: #434B5C;\n",
              "      box-shadow: 0px 1px 3px 1px rgba(0, 0, 0, 0.15);\n",
              "      filter: drop-shadow(0px 1px 2px rgba(0, 0, 0, 0.3));\n",
              "      fill: #FFFFFF;\n",
              "    }\n",
              "  </style>\n",
              "\n",
              "      <script>\n",
              "        const buttonEl =\n",
              "          document.querySelector('#df-03cf6188-b5e4-4628-9d78-756514b1723b button.colab-df-convert');\n",
              "        buttonEl.style.display =\n",
              "          google.colab.kernel.accessAllowed ? 'block' : 'none';\n",
              "\n",
              "        async function convertToInteractive(key) {\n",
              "          const element = document.querySelector('#df-03cf6188-b5e4-4628-9d78-756514b1723b');\n",
              "          const dataTable =\n",
              "            await google.colab.kernel.invokeFunction('convertToInteractive',\n",
              "                                                     [key], {});\n",
              "          if (!dataTable) return;\n",
              "\n",
              "          const docLinkHtml = 'Like what you see? Visit the ' +\n",
              "            '<a target=\"_blank\" href=https://colab.research.google.com/notebooks/data_table.ipynb>data table notebook</a>'\n",
              "            + ' to learn more about interactive tables.';\n",
              "          element.innerHTML = '';\n",
              "          dataTable['output_type'] = 'display_data';\n",
              "          await google.colab.output.renderOutput(dataTable, element);\n",
              "          const docLink = document.createElement('div');\n",
              "          docLink.innerHTML = docLinkHtml;\n",
              "          element.appendChild(docLink);\n",
              "        }\n",
              "      </script>\n",
              "    </div>\n",
              "  </div>\n",
              "  "
            ]
          },
          "metadata": {},
          "execution_count": 103
        }
      ]
    },
    {
      "cell_type": "code",
      "execution_count": 104,
      "metadata": {
        "colab": {
          "base_uri": "https://localhost:8080/",
          "height": 295
        },
        "id": "jK-89PKBWEuB",
        "outputId": "42d49b45-c65b-4b8b-cb0f-429115899963"
      },
      "outputs": [
        {
          "output_type": "display_data",
          "data": {
            "text/plain": [
              "<Figure size 432x288 with 1 Axes>"
            ],
            "image/png": "[encoded data removed]"
          },
          "metadata": {
            "needs_background": "light"
          }
        }
      ],
      "source": [
        "plt.figure()\n",
        "\n",
        "plt.plot(df_al_gato.Fecha_Venta,np.arange(df_al_gato.Fecha_Venta.shape[0]))\n",
        "plt.xlabel('Fecha Venta')\n",
        "plt.ylabel('Subtotal Bruto')\n",
        "plt.title('Ventas Alimento Gato por Años')\n",
        "plt.show()"
      ]
    },
    {
      "cell_type": "markdown",
      "metadata": {
        "id": "VlgESobhFJIW"
      },
      "source": [
        "##Construccion del primer modelo\n",
        "Usaremos un RNN\n",
        "\n",
        "Vamos a sub dividir el conjunto de entrenamiento en entrenamiento y validación."
      ]
    },
    {
      "cell_type": "code",
      "execution_count": 105,
      "metadata": {
        "id": "4QJmbU5WTFh0"
      },
      "outputs": [],
      "source": [
        "df = pd.DataFrame(df_al_gato['Fecha_Venta'])\n",
        "df = df.assign(Ventas = df_al_gato['Subtotal Bruto'])\n",
        "\n",
        "df_sort=df.sort_values(by=['Fecha_Venta'])\n"
      ]
    },
    {
      "cell_type": "code",
      "execution_count": 106,
      "metadata": {
        "colab": {
          "base_uri": "https://localhost:8080/"
        },
        "id": "jvnzU8dmHAPZ",
        "outputId": "52ff2a6a-992d-470d-b882-11002dcedbe6"
      },
      "outputs": [
        {
          "output_type": "stream",
          "name": "stdout",
          "text": [
            "<class 'pandas.core.frame.DataFrame'>\n",
            "Int64Index: 4616 entries, 13 to 78042\n",
            "Data columns (total 2 columns):\n",
            " #   Column       Non-Null Count  Dtype         \n",
            "---  ------       --------------  -----         \n",
            " 0   Fecha_Venta  4616 non-null   datetime64[ns]\n",
            " 1   Ventas       4616 non-null   int64         \n",
            "dtypes: datetime64[ns](1), int64(1)\n",
            "memory usage: 108.2 KB\n"
          ]
        }
      ],
      "source": [
        "df_sort.info()"
      ]
    },
    {
      "cell_type": "code",
      "execution_count": 107,
      "metadata": {
        "colab": {
          "base_uri": "https://localhost:8080/",
          "height": 424
        },
        "id": "j9oK5gDXfOwj",
        "outputId": "6a1d7e3d-b709-4496-95c8-3b9bca9b5467"
      },
      "outputs": [
        {
          "output_type": "execute_result",
          "data": {
            "text/plain": [
              "      Fecha_Venta  Ventas\n",
              "13     2016-12-16   15947\n",
              "37     2016-12-17    6436\n",
              "113    2016-12-20    6436\n",
              "142    2016-12-21    6436\n",
              "146    2016-12-22    5951\n",
              "...           ...     ...\n",
              "78035  2022-12-09   49600\n",
              "78044  2022-12-09   47990\n",
              "78049  2022-12-09   17990\n",
              "78018  2022-12-09   15500\n",
              "78042  2022-12-09   47990\n",
              "\n",
              "[4616 rows x 2 columns]"
            ],
            "text/html": [
              "\n",
              "  <div id=\"df-a582a051-2be9-4381-b696-967a7570ecbc\">\n",
              "    <div class=\"colab-df-container\">\n",
              "      <div>\n",
              "<style scoped>\n",
              "    .dataframe tbody tr th:only-of-type {\n",
              "        vertical-align: middle;\n",
              "    }\n",
              "\n",
              "    .dataframe tbody tr th {\n",
              "        vertical-align: top;\n",
              "    }\n",
              "\n",
              "    .dataframe thead th {\n",
              "        text-align: right;\n",
              "    }\n",
              "</style>\n",
              "<table border=\"1\" class=\"dataframe\">\n",
              "  <thead>\n",
              "    <tr style=\"text-align: right;\">\n",
              "      <th></th>\n",
              "      <th>Fecha_Venta</th>\n",
              "      <th>Ventas</th>\n",
              "    </tr>\n",
              "  </thead>\n",
              "  <tbody>\n",
              "    <tr>\n",
              "      <th>13</th>\n",
              "      <td>2016-12-16</td>\n",
              "      <td>15947</td>\n",
              "    </tr>\n",
              "    <tr>\n",
              "      <th>37</th>\n",
              "      <td>2016-12-17</td>\n",
              "      <td>6436</td>\n",
              "    </tr>\n",
              "    <tr>\n",
              "      <th>113</th>\n",
              "      <td>2016-12-20</td>\n",
              "      <td>6436</td>\n",
              "    </tr>\n",
              "    <tr>\n",
              "      <th>142</th>\n",
              "      <td>2016-12-21</td>\n",
              "      <td>6436</td>\n",
              "    </tr>\n",
              "    <tr>\n",
              "      <th>146</th>\n",
              "      <td>2016-12-22</td>\n",
              "      <td>5951</td>\n",
              "    </tr>\n",
              "    <tr>\n",
              "      <th>...</th>\n",
              "      <td>...</td>\n",
              "      <td>...</td>\n",
              "    </tr>\n",
              "    <tr>\n",
              "      <th>78035</th>\n",
              "      <td>2022-12-09</td>\n",
              "      <td>49600</td>\n",
              "    </tr>\n",
              "    <tr>\n",
              "      <th>78044</th>\n",
              "      <td>2022-12-09</td>\n",
              "      <td>47990</td>\n",
              "    </tr>\n",
              "    <tr>\n",
              "      <th>78049</th>\n",
              "      <td>2022-12-09</td>\n",
              "      <td>17990</td>\n",
              "    </tr>\n",
              "    <tr>\n",
              "      <th>78018</th>\n",
              "      <td>2022-12-09</td>\n",
              "      <td>15500</td>\n",
              "    </tr>\n",
              "    <tr>\n",
              "      <th>78042</th>\n",
              "      <td>2022-12-09</td>\n",
              "      <td>47990</td>\n",
              "    </tr>\n",
              "  </tbody>\n",
              "</table>\n",
              "<p>4616 rows × 2 columns</p>\n",
              "</div>\n",
              "      <button class=\"colab-df-convert\" onclick=\"convertToInteractive('df-a582a051-2be9-4381-b696-967a7570ecbc')\"\n",
              "              title=\"Convert this dataframe to an interactive table.\"\n",
              "              style=\"display:none;\">\n",
              "        \n",
              "  <svg xmlns=\"http://www.w3.org/2000/svg\" height=\"24px\"viewBox=\"0 0 24 24\"\n",
              "       width=\"24px\">\n",
              "    <path d=\"M0 0h24v24H0V0z\" fill=\"none\"/>\n",
              "    <path d=\"M18.56 5.44l.94 2.06.94-2.06 2.06-.94-2.06-.94-.94-2.06-.94 2.06-2.06.94zm-11 1L8.5 8.5l.94-2.06 2.06-.94-2.06-.94L8.5 2.5l-.94 2.06-2.06.94zm10 10l.94 2.06.94-2.06 2.06-.94-2.06-.94-.94-2.06-.94 2.06-2.06.94z\"/><path d=\"M17.41 7.96l-1.37-1.37c-.4-.4-.92-.59-1.43-.59-.52 0-1.04.2-1.43.59L10.3 9.45l-7.72 7.72c-.78.78-.78 2.05 0 2.83L4 21.41c.39.39.9.59 1.41.59.51 0 1.02-.2 1.41-.59l7.78-7.78 2.81-2.81c.8-.78.8-2.07 0-2.86zM5.41 20L4 18.59l7.72-7.72 1.47 1.35L5.41 20z\"/>\n",
              "  </svg>\n",
              "      </button>\n",
              "      \n",
              "  <style>\n",
              "    .colab-df-container {\n",
              "      display:flex;\n",
              "      flex-wrap:wrap;\n",
              "      gap: 12px;\n",
              "    }\n",
              "\n",
              "    .colab-df-convert {\n",
              "      background-color: #E8F0FE;\n",
              "      border: none;\n",
              "      border-radius: 50%;\n",
              "      cursor: pointer;\n",
              "      display: none;\n",
              "      fill: #1967D2;\n",
              "      height: 32px;\n",
              "      padding: 0 0 0 0;\n",
              "      width: 32px;\n",
              "    }\n",
              "\n",
              "    .colab-df-convert:hover {\n",
              "      background-color: #E2EBFA;\n",
              "      box-shadow: 0px 1px 2px rgba(60, 64, 67, 0.3), 0px 1px 3px 1px rgba(60, 64, 67, 0.15);\n",
              "      fill: #174EA6;\n",
              "    }\n",
              "\n",
              "    [theme=dark] .colab-df-convert {\n",
              "      background-color: #3B4455;\n",
              "      fill: #D2E3FC;\n",
              "    }\n",
              "\n",
              "    [theme=dark] .colab-df-convert:hover {\n",
              "      background-color: #434B5C;\n",
              "      box-shadow: 0px 1px 3px 1px rgba(0, 0, 0, 0.15);\n",
              "      filter: drop-shadow(0px 1px 2px rgba(0, 0, 0, 0.3));\n",
              "      fill: #FFFFFF;\n",
              "    }\n",
              "  </style>\n",
              "\n",
              "      <script>\n",
              "        const buttonEl =\n",
              "          document.querySelector('#df-a582a051-2be9-4381-b696-967a7570ecbc button.colab-df-convert');\n",
              "        buttonEl.style.display =\n",
              "          google.colab.kernel.accessAllowed ? 'block' : 'none';\n",
              "\n",
              "        async function convertToInteractive(key) {\n",
              "          const element = document.querySelector('#df-a582a051-2be9-4381-b696-967a7570ecbc');\n",
              "          const dataTable =\n",
              "            await google.colab.kernel.invokeFunction('convertToInteractive',\n",
              "                                                     [key], {});\n",
              "          if (!dataTable) return;\n",
              "\n",
              "          const docLinkHtml = 'Like what you see? Visit the ' +\n",
              "            '<a target=\"_blank\" href=https://colab.research.google.com/notebooks/data_table.ipynb>data table notebook</a>'\n",
              "            + ' to learn more about interactive tables.';\n",
              "          element.innerHTML = '';\n",
              "          dataTable['output_type'] = 'display_data';\n",
              "          await google.colab.output.renderOutput(dataTable, element);\n",
              "          const docLink = document.createElement('div');\n",
              "          docLink.innerHTML = docLinkHtml;\n",
              "          element.appendChild(docLink);\n",
              "        }\n",
              "      </script>\n",
              "    </div>\n",
              "  </div>\n",
              "  "
            ]
          },
          "metadata": {},
          "execution_count": 107
        }
      ],
      "source": [
        "df_sort"
      ]
    },
    {
      "cell_type": "code",
      "execution_count": 108,
      "metadata": {
        "colab": {
          "base_uri": "https://localhost:8080/",
          "height": 295
        },
        "id": "q9nQTDgjHkfa",
        "outputId": "34002a1f-151c-4747-cb8d-257553d41f2d"
      },
      "outputs": [
        {
          "output_type": "display_data",
          "data": {
            "text/plain": [
              "<Figure size 432x288 with 1 Axes>"
            ],
            "image/png": "[encoded data removed]"
          },
          "metadata": {
            "needs_background": "light"
          }
        }
      ],
      "source": [
        "plt.plot(df_sort.Fecha_Venta,np.arange(df_sort.Fecha_Venta.shape[0]))\n",
        "plt.xlabel('Fecha Venta')\n",
        "plt.ylabel('Subtotal Bruto')\n",
        "plt.title('Ventas Alimento Gato por Años')\n",
        "plt.show()"
      ]
    },
    {
      "cell_type": "code",
      "execution_count": 109,
      "metadata": {
        "colab": {
          "base_uri": "https://localhost:8080/",
          "height": 206
        },
        "id": "SoEXoLJGZ7TK",
        "outputId": "bc6a940d-ecf1-48cb-8c08-85df7c6b947b"
      },
      "outputs": [
        {
          "output_type": "execute_result",
          "data": {
            "text/plain": [
              "     Ventas\n",
              "13    15947\n",
              "37     6436\n",
              "113    6436\n",
              "142    6436\n",
              "146    5951"
            ],
            "text/html": [
              "\n",
              "  <div id=\"df-6a828536-f667-441f-a77c-1f0422994ccc\">\n",
              "    <div class=\"colab-df-container\">\n",
              "      <div>\n",
              "<style scoped>\n",
              "    .dataframe tbody tr th:only-of-type {\n",
              "        vertical-align: middle;\n",
              "    }\n",
              "\n",
              "    .dataframe tbody tr th {\n",
              "        vertical-align: top;\n",
              "    }\n",
              "\n",
              "    .dataframe thead th {\n",
              "        text-align: right;\n",
              "    }\n",
              "</style>\n",
              "<table border=\"1\" class=\"dataframe\">\n",
              "  <thead>\n",
              "    <tr style=\"text-align: right;\">\n",
              "      <th></th>\n",
              "      <th>Ventas</th>\n",
              "    </tr>\n",
              "  </thead>\n",
              "  <tbody>\n",
              "    <tr>\n",
              "      <th>13</th>\n",
              "      <td>15947</td>\n",
              "    </tr>\n",
              "    <tr>\n",
              "      <th>37</th>\n",
              "      <td>6436</td>\n",
              "    </tr>\n",
              "    <tr>\n",
              "      <th>113</th>\n",
              "      <td>6436</td>\n",
              "    </tr>\n",
              "    <tr>\n",
              "      <th>142</th>\n",
              "      <td>6436</td>\n",
              "    </tr>\n",
              "    <tr>\n",
              "      <th>146</th>\n",
              "      <td>5951</td>\n",
              "    </tr>\n",
              "  </tbody>\n",
              "</table>\n",
              "</div>\n",
              "      <button class=\"colab-df-convert\" onclick=\"convertToInteractive('df-6a828536-f667-441f-a77c-1f0422994ccc')\"\n",
              "              title=\"Convert this dataframe to an interactive table.\"\n",
              "              style=\"display:none;\">\n",
              "        \n",
              "  <svg xmlns=\"http://www.w3.org/2000/svg\" height=\"24px\"viewBox=\"0 0 24 24\"\n",
              "       width=\"24px\">\n",
              "    <path d=\"M0 0h24v24H0V0z\" fill=\"none\"/>\n",
              "    <path d=\"M18.56 5.44l.94 2.06.94-2.06 2.06-.94-2.06-.94-.94-2.06-.94 2.06-2.06.94zm-11 1L8.5 8.5l.94-2.06 2.06-.94-2.06-.94L8.5 2.5l-.94 2.06-2.06.94zm10 10l.94 2.06.94-2.06 2.06-.94-2.06-.94-.94-2.06-.94 2.06-2.06.94z\"/><path d=\"M17.41 7.96l-1.37-1.37c-.4-.4-.92-.59-1.43-.59-.52 0-1.04.2-1.43.59L10.3 9.45l-7.72 7.72c-.78.78-.78 2.05 0 2.83L4 21.41c.39.39.9.59 1.41.59.51 0 1.02-.2 1.41-.59l7.78-7.78 2.81-2.81c.8-.78.8-2.07 0-2.86zM5.41 20L4 18.59l7.72-7.72 1.47 1.35L5.41 20z\"/>\n",
              "  </svg>\n",
              "      </button>\n",
              "      \n",
              "  <style>\n",
              "    .colab-df-container {\n",
              "      display:flex;\n",
              "      flex-wrap:wrap;\n",
              "      gap: 12px;\n",
              "    }\n",
              "\n",
              "    .colab-df-convert {\n",
              "      background-color: #E8F0FE;\n",
              "      border: none;\n",
              "      border-radius: 50%;\n",
              "      cursor: pointer;\n",
              "      display: none;\n",
              "      fill: #1967D2;\n",
              "      height: 32px;\n",
              "      padding: 0 0 0 0;\n",
              "      width: 32px;\n",
              "    }\n",
              "\n",
              "    .colab-df-convert:hover {\n",
              "      background-color: #E2EBFA;\n",
              "      box-shadow: 0px 1px 2px rgba(60, 64, 67, 0.3), 0px 1px 3px 1px rgba(60, 64, 67, 0.15);\n",
              "      fill: #174EA6;\n",
              "    }\n",
              "\n",
              "    [theme=dark] .colab-df-convert {\n",
              "      background-color: #3B4455;\n",
              "      fill: #D2E3FC;\n",
              "    }\n",
              "\n",
              "    [theme=dark] .colab-df-convert:hover {\n",
              "      background-color: #434B5C;\n",
              "      box-shadow: 0px 1px 3px 1px rgba(0, 0, 0, 0.15);\n",
              "      filter: drop-shadow(0px 1px 2px rgba(0, 0, 0, 0.3));\n",
              "      fill: #FFFFFF;\n",
              "    }\n",
              "  </style>\n",
              "\n",
              "      <script>\n",
              "        const buttonEl =\n",
              "          document.querySelector('#df-6a828536-f667-441f-a77c-1f0422994ccc button.colab-df-convert');\n",
              "        buttonEl.style.display =\n",
              "          google.colab.kernel.accessAllowed ? 'block' : 'none';\n",
              "\n",
              "        async function convertToInteractive(key) {\n",
              "          const element = document.querySelector('#df-6a828536-f667-441f-a77c-1f0422994ccc');\n",
              "          const dataTable =\n",
              "            await google.colab.kernel.invokeFunction('convertToInteractive',\n",
              "                                                     [key], {});\n",
              "          if (!dataTable) return;\n",
              "\n",
              "          const docLinkHtml = 'Like what you see? Visit the ' +\n",
              "            '<a target=\"_blank\" href=https://colab.research.google.com/notebooks/data_table.ipynb>data table notebook</a>'\n",
              "            + ' to learn more about interactive tables.';\n",
              "          element.innerHTML = '';\n",
              "          dataTable['output_type'] = 'display_data';\n",
              "          await google.colab.output.renderOutput(dataTable, element);\n",
              "          const docLink = document.createElement('div');\n",
              "          docLink.innerHTML = docLinkHtml;\n",
              "          element.appendChild(docLink);\n",
              "        }\n",
              "      </script>\n",
              "    </div>\n",
              "  </div>\n",
              "  "
            ]
          },
          "metadata": {},
          "execution_count": 109
        }
      ],
      "source": [
        "# Extraemos la columna Ventas para el desarrollo del modelo Deep Learning\n",
        "\n",
        "df_sort = df_sort.drop(columns=['Fecha_Venta'])\n",
        "df_sort.head()"
      ]
    },
    {
      "cell_type": "code",
      "execution_count": 110,
      "metadata": {
        "colab": {
          "base_uri": "https://localhost:8080/"
        },
        "id": "3m7T0ACDR_zB",
        "outputId": "07ac2e9e-edc9-4dcd-9d6f-be34d026be7e"
      },
      "outputs": [
        {
          "output_type": "stream",
          "name": "stdout",
          "text": [
            "Shape conjunto de datos : (4616, 1)\n",
            "Ejemplo : \n",
            "[[15947.]\n",
            " [ 6436.]\n",
            " [ 6436.]]\n"
          ]
        }
      ],
      "source": [
        "dataset = df_sort.values\n",
        "dataset = dataset.astype('float32')\n",
        "print('Shape conjunto de datos : {}'.format(dataset.shape))\n",
        "print('Ejemplo : \\n{}'.format(dataset[:3]))"
      ]
    },
    {
      "cell_type": "code",
      "source": [
        "from sklearn.preprocessing import MinMaxScaler\n",
        "import numpy as np\n",
        "\n",
        "print('Antes de escalar')\n",
        "print('valor min : {}, valor max : {}'.format(np.amin(dataset), np.amax(dataset)))\n",
        "\n",
        "scaler = MinMaxScaler(feature_range=(0, 1))\n",
        "dataset = scaler.fit_transform(dataset)\n",
        "\n",
        "print('Despues de escalar')\n",
        "print('valor min : {}, valor max : {}'.format(np.amin(dataset), np.amax(dataset)))"
      ],
      "metadata": {
        "colab": {
          "base_uri": "https://localhost:8080/"
        },
        "id": "D4PeVhljjYjO",
        "outputId": "66c7a2a5-e1ba-41bc-a17a-ed474c57ff4a"
      },
      "execution_count": 111,
      "outputs": [
        {
          "output_type": "stream",
          "name": "stdout",
          "text": [
            "Antes de escalar\n",
            "valor min : 700.0, valor max : 180000.0\n",
            "Despues de escalar\n",
            "valor min : 0.0, valor max : 1.0\n"
          ]
        }
      ]
    },
    {
      "cell_type": "code",
      "execution_count": 112,
      "metadata": {
        "colab": {
          "base_uri": "https://localhost:8080/"
        },
        "id": "dQpLYBeryyPz",
        "outputId": "76a4b3e6-00db-4727-a9fd-bce20dca83a8"
      },
      "outputs": [
        {
          "output_type": "stream",
          "name": "stdout",
          "text": [
            "Train : (3092, 1), Test : (1524, 1)\n"
          ]
        }
      ],
      "source": [
        "#Separamos el dataset en Entrenamiento y Test\n",
        "split = int(len(dataset) * 0.67)\n",
        "train, test = dataset[:split,:], dataset[split:,:]\n",
        "print('Train : {}, Test : {}'.format(train.shape, test.shape)) "
      ]
    },
    {
      "cell_type": "markdown",
      "metadata": {
        "id": "rSehdHInaxpJ"
      },
      "source": [
        "Reordenar los datos para hacer la predicción\n",
        "\n",
        "X = t\n",
        "\n",
        "y = t+1"
      ]
    },
    {
      "cell_type": "code",
      "execution_count": 113,
      "metadata": {
        "colab": {
          "base_uri": "https://localhost:8080/"
        },
        "id": "GgHi0MLgN-vG",
        "outputId": "37f4c717-293a-4f77-baa0-a5c172902119"
      },
      "outputs": [
        {
          "output_type": "stream",
          "name": "stdout",
          "text": [
            "X :[[0.08503625 0.03199108 0.03199108 0.03199108 0.02928611 0.02928611\n",
            "  0.09010597]\n",
            " [0.03199108 0.03199108 0.03199108 0.02928611 0.02928611 0.09010597\n",
            "  0.03199108]\n",
            " [0.03199108 0.03199108 0.02928611 0.02928611 0.09010597 0.03199108\n",
            "  0.09010597]\n",
            " [0.03199108 0.02928611 0.02928611 0.09010597 0.03199108 0.09010597\n",
            "  0.10377579]\n",
            " [0.02928611 0.02928611 0.09010597 0.03199108 0.09010597 0.10377579\n",
            "  0.09010597]],\n",
            "Y : [0.03199108 0.09010597 0.10377579 0.09010597 0.10122699]\n",
            "\n",
            "X shape: (3084, 7), y shape: (3084,)\n"
          ]
        }
      ],
      "source": [
        "# Train\n",
        "\n",
        "look_back = 7\n",
        "X_train, y_train = [], []\n",
        "\n",
        "for i in range(len(train)-look_back-1):\n",
        "  x = train[i:(i+look_back), 0]\n",
        "  y = train[i+look_back, 0]\n",
        "\n",
        "  X_train.append(x)\n",
        "  y_train.append(y)\n",
        "\n",
        "\t\n",
        "X_train, y_train = np.array(X_train), np.array(y_train)\n",
        "print('X :{},\\nY : {}'.format(X_train[:5], y_train[:5]))\n",
        "\n",
        "print('\\nX shape: {}, y shape: {}'.format(X_train.shape, y_train.shape))"
      ]
    },
    {
      "cell_type": "code",
      "execution_count": 114,
      "metadata": {
        "colab": {
          "base_uri": "https://localhost:8080/"
        },
        "id": "kbAtICjfOstc",
        "outputId": "9a78d73c-6ed1-4d40-8ced-bd432dec1f65"
      },
      "outputs": [
        {
          "output_type": "stream",
          "name": "stdout",
          "text": [
            "X :[[0.20239821 0.13547127 0.1070831  0.08527607 0.09643056 0.10758505\n",
            "  0.08527607]\n",
            " [0.13547127 0.1070831  0.08527607 0.09643056 0.10758505 0.08527607\n",
            "  0.08527607]\n",
            " [0.1070831  0.08527607 0.09643056 0.10758505 0.08527607 0.08527607\n",
            "  0.09085331]\n",
            " [0.08527607 0.09643056 0.10758505 0.08527607 0.08527607 0.09085331\n",
            "  0.0295594 ]\n",
            " [0.09643056 0.10758505 0.08527607 0.08527607 0.09085331 0.0295594\n",
            "  0.08527607]],\n",
            "Y : [0.08527607 0.09085331 0.0295594  0.08527607 0.1856107 ]\n"
          ]
        }
      ],
      "source": [
        "# Test\n",
        "look_back = 7\n",
        "X_test, y_test = [], []\n",
        "\n",
        "for i in range(len(test)-look_back-1):\n",
        "  x = test[i:(i+look_back), 0]\n",
        "  y = test[i+look_back, 0]\n",
        "\n",
        "  X_test.append(x)\n",
        "  y_test.append(y)\n",
        "\n",
        "\t\n",
        "X_test, y_test = np.array(X_test), np.array(y_test)\n",
        "print('X :{},\\nY : {}'.format(X_test[:5], y_test[:5]))"
      ]
    },
    {
      "cell_type": "markdown",
      "metadata": {
        "id": "8YJonkrla9bH"
      },
      "source": [
        "Actualmente nuestro conjunto de datos de entrada se encuentra organizados como **[#muestras, dato]**, pero necesitamos que sea **[#muestras, time steps, dato]** para que sea una entrada correcta para la RNN (de acuerdo a la [documentación](https://www.tensorflow.org/api_docs/python/tf/keras/layers/SimpleRNN))."
      ]
    },
    {
      "cell_type": "code",
      "execution_count": 115,
      "metadata": {
        "colab": {
          "base_uri": "https://localhost:8080/"
        },
        "id": "_7zUFVP8PHwm",
        "outputId": "51802e08-446f-4d0d-efeb-d2b74444cddf"
      },
      "outputs": [
        {
          "output_type": "stream",
          "name": "stdout",
          "text": [
            "train : (3084, 1, 7), test : (1516, 1, 7)\n"
          ]
        }
      ],
      "source": [
        "X_train = np.reshape(X_train, (X_train.shape[0], 1, X_train.shape[1]))\n",
        "X_test = np.reshape(X_test, (X_test.shape[0], 1, X_test.shape[1]))\n",
        "\n",
        "print('train : {}, test : {}'.format(X_train.shape, X_test.shape))"
      ]
    },
    {
      "cell_type": "markdown",
      "metadata": {
        "id": "HE8lI3tlbR-G"
      },
      "source": [
        "## Modelo - Simple RNN"
      ]
    },
    {
      "cell_type": "code",
      "execution_count": 116,
      "metadata": {
        "colab": {
          "base_uri": "https://localhost:8080/"
        },
        "id": "0An7mzJoPSO1",
        "outputId": "d921746e-72e0-4ddb-a82f-e77e0a5c0b31"
      },
      "outputs": [
        {
          "output_type": "stream",
          "name": "stdout",
          "text": [
            "Model: \"sequential_20\"\n",
            "_________________________________________________________________\n",
            " Layer (type)                Output Shape              Param #   \n",
            "=================================================================\n",
            " simple_rnn_33 (SimpleRNN)   (None, 1, 32)             1280      \n",
            "                                                                 \n",
            " simple_rnn_34 (SimpleRNN)   (None, 128)               20608     \n",
            "                                                                 \n",
            " dense_4 (Dense)             (None, 1)                 129       \n",
            "                                                                 \n",
            "=================================================================\n",
            "Total params: 22,017\n",
            "Trainable params: 22,017\n",
            "Non-trainable params: 0\n",
            "_________________________________________________________________\n",
            "None\n"
          ]
        }
      ],
      "source": [
        "from keras.models import Sequential\n",
        "from keras.layers import SimpleRNN, Dense, Dropout\n",
        "from keras.constraints import nonneg\n",
        "\n",
        "\n",
        "model = Sequential()\n",
        "model.add(SimpleRNN(32,input_shape=(1, look_back), activation='relu', return_sequences=True))\n",
        "model.add(SimpleRNN(128, activation='relu'))\n",
        "model.add((Dense(1, activation='linear', kernel_constraint=nonneg())))\n",
        "\n",
        "print(model.summary())"
      ]
    },
    {
      "cell_type": "markdown",
      "metadata": {
        "id": "ZIyFj_9QQECA"
      },
      "source": [
        "Compilar"
      ]
    },
    {
      "cell_type": "code",
      "execution_count": 117,
      "metadata": {
        "id": "QfV2bJ3vPXGL"
      },
      "outputs": [],
      "source": [
        "model.compile(loss='mean_squared_error', \n",
        "              optimizer='adam',\n",
        "              metrics = ['mse'])"
      ]
    },
    {
      "cell_type": "code",
      "source": [
        "from keras.callbacks import EarlyStopping\n",
        "\n",
        "early_stopping = EarlyStopping(monitor='val_loss',\n",
        "min_delta=0,\n",
        "patience=30,\n",
        "mode='min',\n",
        "restore_best_weights=True)"
      ],
      "metadata": {
        "id": "3-OpO9CA2kaE"
      },
      "execution_count": 118,
      "outputs": []
    },
    {
      "cell_type": "markdown",
      "metadata": {
        "id": "IEX_hUY7QFrn"
      },
      "source": [
        "Entrenamiento"
      ]
    },
    {
      "cell_type": "code",
      "execution_count": 119,
      "metadata": {
        "colab": {
          "base_uri": "https://localhost:8080/"
        },
        "id": "Z73oIeEkPaBZ",
        "outputId": "de19b5a2-080c-4232-a006-4773fe30719e"
      },
      "outputs": [
        {
          "output_type": "stream",
          "name": "stdout",
          "text": [
            "Epoch 1/300\n",
            "155/155 - 2s - loss: 0.0069 - mse: 0.0069 - val_loss: 0.0094 - val_mse: 0.0094 - 2s/epoch - 14ms/step\n",
            "Epoch 2/300\n",
            "155/155 - 0s - loss: 0.0065 - mse: 0.0065 - val_loss: 0.0093 - val_mse: 0.0093 - 450ms/epoch - 3ms/step\n",
            "Epoch 3/300\n",
            "155/155 - 0s - loss: 0.0064 - mse: 0.0064 - val_loss: 0.0095 - val_mse: 0.0095 - 461ms/epoch - 3ms/step\n",
            "Epoch 4/300\n",
            "155/155 - 0s - loss: 0.0064 - mse: 0.0064 - val_loss: 0.0097 - val_mse: 0.0097 - 433ms/epoch - 3ms/step\n",
            "Epoch 5/300\n",
            "155/155 - 0s - loss: 0.0064 - mse: 0.0064 - val_loss: 0.0099 - val_mse: 0.0099 - 458ms/epoch - 3ms/step\n",
            "Epoch 6/300\n",
            "155/155 - 0s - loss: 0.0064 - mse: 0.0064 - val_loss: 0.0094 - val_mse: 0.0094 - 426ms/epoch - 3ms/step\n",
            "Epoch 7/300\n",
            "155/155 - 0s - loss: 0.0064 - mse: 0.0064 - val_loss: 0.0096 - val_mse: 0.0096 - 451ms/epoch - 3ms/step\n",
            "Epoch 8/300\n",
            "155/155 - 0s - loss: 0.0063 - mse: 0.0063 - val_loss: 0.0098 - val_mse: 0.0098 - 442ms/epoch - 3ms/step\n",
            "Epoch 9/300\n",
            "155/155 - 0s - loss: 0.0063 - mse: 0.0063 - val_loss: 0.0095 - val_mse: 0.0095 - 422ms/epoch - 3ms/step\n",
            "Epoch 10/300\n",
            "155/155 - 0s - loss: 0.0063 - mse: 0.0063 - val_loss: 0.0096 - val_mse: 0.0096 - 459ms/epoch - 3ms/step\n",
            "Epoch 11/300\n",
            "155/155 - 1s - loss: 0.0063 - mse: 0.0063 - val_loss: 0.0102 - val_mse: 0.0102 - 515ms/epoch - 3ms/step\n",
            "Epoch 12/300\n",
            "155/155 - 0s - loss: 0.0062 - mse: 0.0062 - val_loss: 0.0096 - val_mse: 0.0096 - 442ms/epoch - 3ms/step\n",
            "Epoch 13/300\n",
            "155/155 - 0s - loss: 0.0062 - mse: 0.0062 - val_loss: 0.0104 - val_mse: 0.0104 - 434ms/epoch - 3ms/step\n",
            "Epoch 14/300\n",
            "155/155 - 0s - loss: 0.0062 - mse: 0.0062 - val_loss: 0.0103 - val_mse: 0.0103 - 449ms/epoch - 3ms/step\n",
            "Epoch 15/300\n",
            "155/155 - 0s - loss: 0.0061 - mse: 0.0061 - val_loss: 0.0100 - val_mse: 0.0100 - 439ms/epoch - 3ms/step\n",
            "Epoch 16/300\n",
            "155/155 - 0s - loss: 0.0062 - mse: 0.0062 - val_loss: 0.0101 - val_mse: 0.0101 - 446ms/epoch - 3ms/step\n",
            "Epoch 17/300\n",
            "155/155 - 0s - loss: 0.0061 - mse: 0.0061 - val_loss: 0.0100 - val_mse: 0.0100 - 437ms/epoch - 3ms/step\n",
            "Epoch 18/300\n",
            "155/155 - 0s - loss: 0.0061 - mse: 0.0061 - val_loss: 0.0103 - val_mse: 0.0103 - 430ms/epoch - 3ms/step\n",
            "Epoch 19/300\n",
            "155/155 - 1s - loss: 0.0062 - mse: 0.0062 - val_loss: 0.0103 - val_mse: 0.0103 - 545ms/epoch - 4ms/step\n",
            "Epoch 20/300\n",
            "155/155 - 0s - loss: 0.0061 - mse: 0.0061 - val_loss: 0.0105 - val_mse: 0.0105 - 441ms/epoch - 3ms/step\n",
            "Epoch 21/300\n",
            "155/155 - 0s - loss: 0.0061 - mse: 0.0061 - val_loss: 0.0101 - val_mse: 0.0101 - 440ms/epoch - 3ms/step\n",
            "Epoch 22/300\n",
            "155/155 - 0s - loss: 0.0061 - mse: 0.0061 - val_loss: 0.0103 - val_mse: 0.0103 - 452ms/epoch - 3ms/step\n",
            "Epoch 23/300\n",
            "155/155 - 0s - loss: 0.0061 - mse: 0.0061 - val_loss: 0.0102 - val_mse: 0.0102 - 444ms/epoch - 3ms/step\n",
            "Epoch 24/300\n",
            "155/155 - 0s - loss: 0.0061 - mse: 0.0061 - val_loss: 0.0103 - val_mse: 0.0103 - 444ms/epoch - 3ms/step\n",
            "Epoch 25/300\n",
            "155/155 - 0s - loss: 0.0060 - mse: 0.0060 - val_loss: 0.0103 - val_mse: 0.0103 - 432ms/epoch - 3ms/step\n",
            "Epoch 26/300\n",
            "155/155 - 0s - loss: 0.0061 - mse: 0.0061 - val_loss: 0.0103 - val_mse: 0.0103 - 431ms/epoch - 3ms/step\n",
            "Epoch 27/300\n",
            "155/155 - 0s - loss: 0.0060 - mse: 0.0060 - val_loss: 0.0106 - val_mse: 0.0106 - 495ms/epoch - 3ms/step\n",
            "Epoch 28/300\n",
            "155/155 - 0s - loss: 0.0059 - mse: 0.0059 - val_loss: 0.0105 - val_mse: 0.0105 - 440ms/epoch - 3ms/step\n",
            "Epoch 29/300\n",
            "155/155 - 1s - loss: 0.0061 - mse: 0.0061 - val_loss: 0.0108 - val_mse: 0.0108 - 535ms/epoch - 3ms/step\n",
            "Epoch 30/300\n",
            "155/155 - 0s - loss: 0.0059 - mse: 0.0059 - val_loss: 0.0103 - val_mse: 0.0103 - 441ms/epoch - 3ms/step\n",
            "Epoch 31/300\n",
            "155/155 - 0s - loss: 0.0059 - mse: 0.0059 - val_loss: 0.0106 - val_mse: 0.0106 - 432ms/epoch - 3ms/step\n",
            "Epoch 32/300\n",
            "155/155 - 1s - loss: 0.0059 - mse: 0.0059 - val_loss: 0.0108 - val_mse: 0.0108 - 519ms/epoch - 3ms/step\n",
            "Epoch 33/300\n",
            "155/155 - 0s - loss: 0.0058 - mse: 0.0058 - val_loss: 0.0105 - val_mse: 0.0105 - 451ms/epoch - 3ms/step\n",
            "Epoch 34/300\n",
            "155/155 - 0s - loss: 0.0058 - mse: 0.0058 - val_loss: 0.0108 - val_mse: 0.0108 - 450ms/epoch - 3ms/step\n",
            "Epoch 35/300\n",
            "155/155 - 0s - loss: 0.0058 - mse: 0.0058 - val_loss: 0.0108 - val_mse: 0.0108 - 444ms/epoch - 3ms/step\n",
            "Epoch 36/300\n",
            "155/155 - 0s - loss: 0.0058 - mse: 0.0058 - val_loss: 0.0107 - val_mse: 0.0107 - 441ms/epoch - 3ms/step\n",
            "Epoch 37/300\n",
            "155/155 - 0s - loss: 0.0058 - mse: 0.0058 - val_loss: 0.0110 - val_mse: 0.0110 - 446ms/epoch - 3ms/step\n",
            "Epoch 38/300\n",
            "155/155 - 0s - loss: 0.0057 - mse: 0.0057 - val_loss: 0.0108 - val_mse: 0.0108 - 438ms/epoch - 3ms/step\n",
            "Epoch 39/300\n",
            "155/155 - 0s - loss: 0.0058 - mse: 0.0058 - val_loss: 0.0111 - val_mse: 0.0111 - 446ms/epoch - 3ms/step\n",
            "Epoch 40/300\n",
            "155/155 - 0s - loss: 0.0057 - mse: 0.0057 - val_loss: 0.0111 - val_mse: 0.0111 - 443ms/epoch - 3ms/step\n",
            "Epoch 41/300\n",
            "155/155 - 0s - loss: 0.0057 - mse: 0.0057 - val_loss: 0.0114 - val_mse: 0.0114 - 458ms/epoch - 3ms/step\n",
            "Epoch 42/300\n",
            "155/155 - 0s - loss: 0.0057 - mse: 0.0057 - val_loss: 0.0112 - val_mse: 0.0112 - 426ms/epoch - 3ms/step\n",
            "Epoch 43/300\n",
            "155/155 - 0s - loss: 0.0057 - mse: 0.0057 - val_loss: 0.0116 - val_mse: 0.0116 - 443ms/epoch - 3ms/step\n",
            "Epoch 44/300\n",
            "155/155 - 0s - loss: 0.0057 - mse: 0.0057 - val_loss: 0.0112 - val_mse: 0.0112 - 420ms/epoch - 3ms/step\n",
            "Epoch 45/300\n",
            "155/155 - 0s - loss: 0.0056 - mse: 0.0056 - val_loss: 0.0112 - val_mse: 0.0112 - 437ms/epoch - 3ms/step\n",
            "Epoch 46/300\n",
            "155/155 - 0s - loss: 0.0057 - mse: 0.0057 - val_loss: 0.0113 - val_mse: 0.0113 - 463ms/epoch - 3ms/step\n",
            "Epoch 47/300\n",
            "155/155 - 0s - loss: 0.0056 - mse: 0.0056 - val_loss: 0.0108 - val_mse: 0.0108 - 418ms/epoch - 3ms/step\n",
            "Epoch 48/300\n",
            "155/155 - 0s - loss: 0.0056 - mse: 0.0056 - val_loss: 0.0119 - val_mse: 0.0119 - 445ms/epoch - 3ms/step\n",
            "Epoch 49/300\n",
            "155/155 - 0s - loss: 0.0056 - mse: 0.0056 - val_loss: 0.0116 - val_mse: 0.0116 - 444ms/epoch - 3ms/step\n",
            "Epoch 50/300\n",
            "155/155 - 0s - loss: 0.0056 - mse: 0.0056 - val_loss: 0.0113 - val_mse: 0.0113 - 433ms/epoch - 3ms/step\n",
            "Epoch 51/300\n",
            "155/155 - 0s - loss: 0.0055 - mse: 0.0055 - val_loss: 0.0119 - val_mse: 0.0119 - 429ms/epoch - 3ms/step\n",
            "Epoch 52/300\n",
            "155/155 - 0s - loss: 0.0056 - mse: 0.0056 - val_loss: 0.0117 - val_mse: 0.0117 - 429ms/epoch - 3ms/step\n",
            "Epoch 53/300\n",
            "155/155 - 0s - loss: 0.0055 - mse: 0.0055 - val_loss: 0.0113 - val_mse: 0.0113 - 441ms/epoch - 3ms/step\n",
            "Epoch 54/300\n",
            "155/155 - 0s - loss: 0.0055 - mse: 0.0055 - val_loss: 0.0119 - val_mse: 0.0119 - 422ms/epoch - 3ms/step\n",
            "Epoch 55/300\n",
            "155/155 - 0s - loss: 0.0055 - mse: 0.0055 - val_loss: 0.0124 - val_mse: 0.0124 - 449ms/epoch - 3ms/step\n",
            "Epoch 56/300\n",
            "155/155 - 0s - loss: 0.0055 - mse: 0.0055 - val_loss: 0.0120 - val_mse: 0.0120 - 431ms/epoch - 3ms/step\n",
            "Epoch 57/300\n",
            "155/155 - 0s - loss: 0.0054 - mse: 0.0054 - val_loss: 0.0119 - val_mse: 0.0119 - 451ms/epoch - 3ms/step\n",
            "Epoch 58/300\n",
            "155/155 - 0s - loss: 0.0054 - mse: 0.0054 - val_loss: 0.0119 - val_mse: 0.0119 - 448ms/epoch - 3ms/step\n",
            "Epoch 59/300\n",
            "155/155 - 0s - loss: 0.0054 - mse: 0.0054 - val_loss: 0.0121 - val_mse: 0.0121 - 427ms/epoch - 3ms/step\n",
            "Epoch 60/300\n",
            "155/155 - 0s - loss: 0.0054 - mse: 0.0054 - val_loss: 0.0126 - val_mse: 0.0126 - 432ms/epoch - 3ms/step\n",
            "Epoch 61/300\n",
            "155/155 - 0s - loss: 0.0054 - mse: 0.0054 - val_loss: 0.0114 - val_mse: 0.0114 - 421ms/epoch - 3ms/step\n",
            "Epoch 62/300\n",
            "155/155 - 0s - loss: 0.0053 - mse: 0.0053 - val_loss: 0.0118 - val_mse: 0.0118 - 429ms/epoch - 3ms/step\n",
            "Epoch 63/300\n",
            "155/155 - 1s - loss: 0.0054 - mse: 0.0054 - val_loss: 0.0115 - val_mse: 0.0115 - 525ms/epoch - 3ms/step\n",
            "Epoch 64/300\n",
            "155/155 - 0s - loss: 0.0053 - mse: 0.0053 - val_loss: 0.0121 - val_mse: 0.0121 - 481ms/epoch - 3ms/step\n",
            "Epoch 65/300\n",
            "155/155 - 0s - loss: 0.0054 - mse: 0.0054 - val_loss: 0.0117 - val_mse: 0.0117 - 428ms/epoch - 3ms/step\n",
            "Epoch 66/300\n",
            "155/155 - 0s - loss: 0.0054 - mse: 0.0054 - val_loss: 0.0123 - val_mse: 0.0123 - 454ms/epoch - 3ms/step\n",
            "Epoch 67/300\n",
            "155/155 - 0s - loss: 0.0052 - mse: 0.0052 - val_loss: 0.0118 - val_mse: 0.0118 - 446ms/epoch - 3ms/step\n",
            "Epoch 68/300\n",
            "155/155 - 0s - loss: 0.0052 - mse: 0.0052 - val_loss: 0.0126 - val_mse: 0.0126 - 429ms/epoch - 3ms/step\n",
            "Epoch 69/300\n",
            "155/155 - 0s - loss: 0.0054 - mse: 0.0054 - val_loss: 0.0125 - val_mse: 0.0125 - 458ms/epoch - 3ms/step\n",
            "Epoch 70/300\n",
            "155/155 - 0s - loss: 0.0052 - mse: 0.0052 - val_loss: 0.0126 - val_mse: 0.0126 - 436ms/epoch - 3ms/step\n",
            "Epoch 71/300\n",
            "155/155 - 0s - loss: 0.0052 - mse: 0.0052 - val_loss: 0.0128 - val_mse: 0.0128 - 457ms/epoch - 3ms/step\n",
            "Epoch 72/300\n",
            "155/155 - 0s - loss: 0.0053 - mse: 0.0053 - val_loss: 0.0124 - val_mse: 0.0124 - 413ms/epoch - 3ms/step\n",
            "Epoch 73/300\n",
            "155/155 - 1s - loss: 0.0052 - mse: 0.0052 - val_loss: 0.0123 - val_mse: 0.0123 - 527ms/epoch - 3ms/step\n",
            "Epoch 74/300\n",
            "155/155 - 0s - loss: 0.0052 - mse: 0.0052 - val_loss: 0.0125 - val_mse: 0.0125 - 421ms/epoch - 3ms/step\n",
            "Epoch 75/300\n",
            "155/155 - 0s - loss: 0.0052 - mse: 0.0052 - val_loss: 0.0122 - val_mse: 0.0122 - 458ms/epoch - 3ms/step\n",
            "Epoch 76/300\n",
            "155/155 - 0s - loss: 0.0052 - mse: 0.0052 - val_loss: 0.0120 - val_mse: 0.0120 - 430ms/epoch - 3ms/step\n",
            "Epoch 77/300\n",
            "155/155 - 1s - loss: 0.0052 - mse: 0.0052 - val_loss: 0.0128 - val_mse: 0.0128 - 509ms/epoch - 3ms/step\n",
            "Epoch 78/300\n",
            "155/155 - 0s - loss: 0.0052 - mse: 0.0052 - val_loss: 0.0124 - val_mse: 0.0124 - 427ms/epoch - 3ms/step\n",
            "Epoch 79/300\n",
            "155/155 - 0s - loss: 0.0051 - mse: 0.0051 - val_loss: 0.0136 - val_mse: 0.0136 - 434ms/epoch - 3ms/step\n",
            "Epoch 80/300\n",
            "155/155 - 0s - loss: 0.0051 - mse: 0.0051 - val_loss: 0.0133 - val_mse: 0.0133 - 438ms/epoch - 3ms/step\n",
            "Epoch 81/300\n",
            "155/155 - 0s - loss: 0.0051 - mse: 0.0051 - val_loss: 0.0130 - val_mse: 0.0130 - 436ms/epoch - 3ms/step\n",
            "Epoch 82/300\n",
            "155/155 - 0s - loss: 0.0051 - mse: 0.0051 - val_loss: 0.0130 - val_mse: 0.0130 - 451ms/epoch - 3ms/step\n",
            "Epoch 83/300\n",
            "155/155 - 0s - loss: 0.0051 - mse: 0.0051 - val_loss: 0.0137 - val_mse: 0.0137 - 425ms/epoch - 3ms/step\n",
            "Epoch 84/300\n",
            "155/155 - 0s - loss: 0.0050 - mse: 0.0050 - val_loss: 0.0132 - val_mse: 0.0132 - 433ms/epoch - 3ms/step\n",
            "Epoch 85/300\n",
            "155/155 - 0s - loss: 0.0050 - mse: 0.0050 - val_loss: 0.0132 - val_mse: 0.0132 - 425ms/epoch - 3ms/step\n",
            "Epoch 86/300\n",
            "155/155 - 0s - loss: 0.0050 - mse: 0.0050 - val_loss: 0.0132 - val_mse: 0.0132 - 420ms/epoch - 3ms/step\n",
            "Epoch 87/300\n",
            "155/155 - 0s - loss: 0.0051 - mse: 0.0051 - val_loss: 0.0139 - val_mse: 0.0139 - 450ms/epoch - 3ms/step\n",
            "Epoch 88/300\n",
            "155/155 - 0s - loss: 0.0050 - mse: 0.0050 - val_loss: 0.0143 - val_mse: 0.0143 - 459ms/epoch - 3ms/step\n",
            "Epoch 89/300\n",
            "155/155 - 0s - loss: 0.0050 - mse: 0.0050 - val_loss: 0.0146 - val_mse: 0.0146 - 453ms/epoch - 3ms/step\n",
            "Epoch 90/300\n",
            "155/155 - 0s - loss: 0.0050 - mse: 0.0050 - val_loss: 0.0136 - val_mse: 0.0136 - 437ms/epoch - 3ms/step\n",
            "Epoch 91/300\n",
            "155/155 - 0s - loss: 0.0049 - mse: 0.0049 - val_loss: 0.0136 - val_mse: 0.0136 - 441ms/epoch - 3ms/step\n",
            "Epoch 92/300\n",
            "155/155 - 0s - loss: 0.0050 - mse: 0.0050 - val_loss: 0.0136 - val_mse: 0.0136 - 422ms/epoch - 3ms/step\n",
            "Epoch 93/300\n",
            "155/155 - 0s - loss: 0.0049 - mse: 0.0049 - val_loss: 0.0145 - val_mse: 0.0145 - 421ms/epoch - 3ms/step\n",
            "Epoch 94/300\n",
            "155/155 - 0s - loss: 0.0049 - mse: 0.0049 - val_loss: 0.0150 - val_mse: 0.0150 - 461ms/epoch - 3ms/step\n",
            "Epoch 95/300\n",
            "155/155 - 0s - loss: 0.0049 - mse: 0.0049 - val_loss: 0.0145 - val_mse: 0.0145 - 441ms/epoch - 3ms/step\n",
            "Epoch 96/300\n",
            "155/155 - 0s - loss: 0.0049 - mse: 0.0049 - val_loss: 0.0142 - val_mse: 0.0142 - 445ms/epoch - 3ms/step\n",
            "Epoch 97/300\n",
            "155/155 - 0s - loss: 0.0050 - mse: 0.0050 - val_loss: 0.0153 - val_mse: 0.0153 - 433ms/epoch - 3ms/step\n",
            "Epoch 98/300\n",
            "155/155 - 0s - loss: 0.0049 - mse: 0.0049 - val_loss: 0.0156 - val_mse: 0.0156 - 454ms/epoch - 3ms/step\n",
            "Epoch 99/300\n",
            "155/155 - 0s - loss: 0.0049 - mse: 0.0049 - val_loss: 0.0149 - val_mse: 0.0149 - 433ms/epoch - 3ms/step\n",
            "Epoch 100/300\n",
            "155/155 - 0s - loss: 0.0049 - mse: 0.0049 - val_loss: 0.0143 - val_mse: 0.0143 - 438ms/epoch - 3ms/step\n",
            "Epoch 101/300\n",
            "155/155 - 0s - loss: 0.0050 - mse: 0.0050 - val_loss: 0.0160 - val_mse: 0.0160 - 436ms/epoch - 3ms/step\n",
            "Epoch 102/300\n",
            "155/155 - 0s - loss: 0.0049 - mse: 0.0049 - val_loss: 0.0150 - val_mse: 0.0150 - 430ms/epoch - 3ms/step\n",
            "Epoch 103/300\n",
            "155/155 - 0s - loss: 0.0048 - mse: 0.0048 - val_loss: 0.0131 - val_mse: 0.0131 - 452ms/epoch - 3ms/step\n",
            "Epoch 104/300\n",
            "155/155 - 0s - loss: 0.0048 - mse: 0.0048 - val_loss: 0.0146 - val_mse: 0.0146 - 439ms/epoch - 3ms/step\n",
            "Epoch 105/300\n",
            "155/155 - 0s - loss: 0.0047 - mse: 0.0047 - val_loss: 0.0154 - val_mse: 0.0154 - 434ms/epoch - 3ms/step\n",
            "Epoch 106/300\n",
            "155/155 - 0s - loss: 0.0047 - mse: 0.0047 - val_loss: 0.0145 - val_mse: 0.0145 - 424ms/epoch - 3ms/step\n",
            "Epoch 107/300\n",
            "155/155 - 0s - loss: 0.0047 - mse: 0.0047 - val_loss: 0.0156 - val_mse: 0.0156 - 455ms/epoch - 3ms/step\n",
            "Epoch 108/300\n",
            "155/155 - 0s - loss: 0.0047 - mse: 0.0047 - val_loss: 0.0147 - val_mse: 0.0147 - 449ms/epoch - 3ms/step\n",
            "Epoch 109/300\n",
            "155/155 - 0s - loss: 0.0048 - mse: 0.0048 - val_loss: 0.0168 - val_mse: 0.0168 - 427ms/epoch - 3ms/step\n",
            "Epoch 110/300\n",
            "155/155 - 0s - loss: 0.0048 - mse: 0.0048 - val_loss: 0.0188 - val_mse: 0.0188 - 468ms/epoch - 3ms/step\n",
            "Epoch 111/300\n",
            "155/155 - 0s - loss: 0.0047 - mse: 0.0047 - val_loss: 0.0169 - val_mse: 0.0169 - 442ms/epoch - 3ms/step\n",
            "Epoch 112/300\n",
            "155/155 - 0s - loss: 0.0047 - mse: 0.0047 - val_loss: 0.0180 - val_mse: 0.0180 - 451ms/epoch - 3ms/step\n",
            "Epoch 113/300\n",
            "155/155 - 0s - loss: 0.0047 - mse: 0.0047 - val_loss: 0.0167 - val_mse: 0.0167 - 440ms/epoch - 3ms/step\n",
            "Epoch 114/300\n",
            "155/155 - 0s - loss: 0.0046 - mse: 0.0046 - val_loss: 0.0162 - val_mse: 0.0162 - 431ms/epoch - 3ms/step\n",
            "Epoch 115/300\n",
            "155/155 - 0s - loss: 0.0047 - mse: 0.0047 - val_loss: 0.0173 - val_mse: 0.0173 - 437ms/epoch - 3ms/step\n",
            "Epoch 116/300\n",
            "155/155 - 0s - loss: 0.0046 - mse: 0.0046 - val_loss: 0.0177 - val_mse: 0.0177 - 421ms/epoch - 3ms/step\n",
            "Epoch 117/300\n",
            "155/155 - 0s - loss: 0.0046 - mse: 0.0046 - val_loss: 0.0182 - val_mse: 0.0182 - 450ms/epoch - 3ms/step\n",
            "Epoch 118/300\n",
            "155/155 - 0s - loss: 0.0046 - mse: 0.0046 - val_loss: 0.0166 - val_mse: 0.0166 - 422ms/epoch - 3ms/step\n",
            "Epoch 119/300\n",
            "155/155 - 0s - loss: 0.0046 - mse: 0.0046 - val_loss: 0.0151 - val_mse: 0.0151 - 445ms/epoch - 3ms/step\n",
            "Epoch 120/300\n",
            "155/155 - 0s - loss: 0.0046 - mse: 0.0046 - val_loss: 0.0176 - val_mse: 0.0176 - 427ms/epoch - 3ms/step\n",
            "Epoch 121/300\n",
            "155/155 - 0s - loss: 0.0046 - mse: 0.0046 - val_loss: 0.0183 - val_mse: 0.0183 - 449ms/epoch - 3ms/step\n",
            "Epoch 122/300\n",
            "155/155 - 0s - loss: 0.0045 - mse: 0.0045 - val_loss: 0.0178 - val_mse: 0.0178 - 436ms/epoch - 3ms/step\n",
            "Epoch 123/300\n",
            "155/155 - 0s - loss: 0.0046 - mse: 0.0046 - val_loss: 0.0160 - val_mse: 0.0160 - 421ms/epoch - 3ms/step\n",
            "Epoch 124/300\n",
            "155/155 - 0s - loss: 0.0046 - mse: 0.0046 - val_loss: 0.0196 - val_mse: 0.0196 - 425ms/epoch - 3ms/step\n",
            "Epoch 125/300\n",
            "155/155 - 0s - loss: 0.0047 - mse: 0.0047 - val_loss: 0.0181 - val_mse: 0.0181 - 414ms/epoch - 3ms/step\n",
            "Epoch 126/300\n",
            "155/155 - 0s - loss: 0.0047 - mse: 0.0047 - val_loss: 0.0182 - val_mse: 0.0182 - 434ms/epoch - 3ms/step\n",
            "Epoch 127/300\n",
            "155/155 - 0s - loss: 0.0045 - mse: 0.0045 - val_loss: 0.0176 - val_mse: 0.0176 - 421ms/epoch - 3ms/step\n",
            "Epoch 128/300\n",
            "155/155 - 0s - loss: 0.0045 - mse: 0.0045 - val_loss: 0.0167 - val_mse: 0.0167 - 438ms/epoch - 3ms/step\n",
            "Epoch 129/300\n",
            "155/155 - 0s - loss: 0.0045 - mse: 0.0045 - val_loss: 0.0184 - val_mse: 0.0184 - 431ms/epoch - 3ms/step\n",
            "Epoch 130/300\n",
            "155/155 - 0s - loss: 0.0044 - mse: 0.0044 - val_loss: 0.0186 - val_mse: 0.0186 - 430ms/epoch - 3ms/step\n",
            "Epoch 131/300\n",
            "155/155 - 0s - loss: 0.0044 - mse: 0.0044 - val_loss: 0.0168 - val_mse: 0.0168 - 441ms/epoch - 3ms/step\n",
            "Epoch 132/300\n",
            "155/155 - 0s - loss: 0.0044 - mse: 0.0044 - val_loss: 0.0185 - val_mse: 0.0185 - 441ms/epoch - 3ms/step\n",
            "Epoch 133/300\n",
            "155/155 - 0s - loss: 0.0043 - mse: 0.0043 - val_loss: 0.0182 - val_mse: 0.0182 - 442ms/epoch - 3ms/step\n",
            "Epoch 134/300\n",
            "155/155 - 0s - loss: 0.0044 - mse: 0.0044 - val_loss: 0.0172 - val_mse: 0.0172 - 461ms/epoch - 3ms/step\n",
            "Epoch 135/300\n",
            "155/155 - 0s - loss: 0.0044 - mse: 0.0044 - val_loss: 0.0177 - val_mse: 0.0177 - 465ms/epoch - 3ms/step\n",
            "Epoch 136/300\n",
            "155/155 - 0s - loss: 0.0043 - mse: 0.0043 - val_loss: 0.0182 - val_mse: 0.0182 - 431ms/epoch - 3ms/step\n",
            "Epoch 137/300\n",
            "155/155 - 0s - loss: 0.0044 - mse: 0.0044 - val_loss: 0.0199 - val_mse: 0.0199 - 454ms/epoch - 3ms/step\n",
            "Epoch 138/300\n",
            "155/155 - 0s - loss: 0.0044 - mse: 0.0044 - val_loss: 0.0196 - val_mse: 0.0196 - 442ms/epoch - 3ms/step\n",
            "Epoch 139/300\n",
            "155/155 - 0s - loss: 0.0043 - mse: 0.0043 - val_loss: 0.0187 - val_mse: 0.0187 - 428ms/epoch - 3ms/step\n",
            "Epoch 140/300\n",
            "155/155 - 0s - loss: 0.0043 - mse: 0.0043 - val_loss: 0.0194 - val_mse: 0.0194 - 443ms/epoch - 3ms/step\n",
            "Epoch 141/300\n",
            "155/155 - 0s - loss: 0.0043 - mse: 0.0043 - val_loss: 0.0185 - val_mse: 0.0185 - 434ms/epoch - 3ms/step\n",
            "Epoch 142/300\n",
            "155/155 - 0s - loss: 0.0043 - mse: 0.0043 - val_loss: 0.0194 - val_mse: 0.0194 - 435ms/epoch - 3ms/step\n",
            "Epoch 143/300\n",
            "155/155 - 0s - loss: 0.0043 - mse: 0.0043 - val_loss: 0.0184 - val_mse: 0.0184 - 435ms/epoch - 3ms/step\n",
            "Epoch 144/300\n",
            "155/155 - 0s - loss: 0.0042 - mse: 0.0042 - val_loss: 0.0216 - val_mse: 0.0216 - 432ms/epoch - 3ms/step\n",
            "Epoch 145/300\n",
            "155/155 - 0s - loss: 0.0043 - mse: 0.0043 - val_loss: 0.0201 - val_mse: 0.0201 - 435ms/epoch - 3ms/step\n",
            "Epoch 146/300\n",
            "155/155 - 0s - loss: 0.0043 - mse: 0.0043 - val_loss: 0.0183 - val_mse: 0.0183 - 447ms/epoch - 3ms/step\n",
            "Epoch 147/300\n",
            "155/155 - 0s - loss: 0.0042 - mse: 0.0042 - val_loss: 0.0216 - val_mse: 0.0216 - 457ms/epoch - 3ms/step\n",
            "Epoch 148/300\n",
            "155/155 - 0s - loss: 0.0043 - mse: 0.0043 - val_loss: 0.0207 - val_mse: 0.0207 - 442ms/epoch - 3ms/step\n",
            "Epoch 149/300\n",
            "155/155 - 0s - loss: 0.0043 - mse: 0.0043 - val_loss: 0.0216 - val_mse: 0.0216 - 444ms/epoch - 3ms/step\n",
            "Epoch 150/300\n",
            "155/155 - 0s - loss: 0.0043 - mse: 0.0043 - val_loss: 0.0204 - val_mse: 0.0204 - 445ms/epoch - 3ms/step\n",
            "Epoch 151/300\n",
            "155/155 - 0s - loss: 0.0042 - mse: 0.0042 - val_loss: 0.0218 - val_mse: 0.0218 - 448ms/epoch - 3ms/step\n",
            "Epoch 152/300\n",
            "155/155 - 0s - loss: 0.0041 - mse: 0.0041 - val_loss: 0.0189 - val_mse: 0.0189 - 453ms/epoch - 3ms/step\n",
            "Epoch 153/300\n",
            "155/155 - 0s - loss: 0.0041 - mse: 0.0041 - val_loss: 0.0247 - val_mse: 0.0247 - 439ms/epoch - 3ms/step\n",
            "Epoch 154/300\n",
            "155/155 - 0s - loss: 0.0041 - mse: 0.0041 - val_loss: 0.0192 - val_mse: 0.0192 - 457ms/epoch - 3ms/step\n",
            "Epoch 155/300\n",
            "155/155 - 0s - loss: 0.0041 - mse: 0.0041 - val_loss: 0.0216 - val_mse: 0.0216 - 437ms/epoch - 3ms/step\n",
            "Epoch 156/300\n",
            "155/155 - 0s - loss: 0.0041 - mse: 0.0041 - val_loss: 0.0199 - val_mse: 0.0199 - 447ms/epoch - 3ms/step\n",
            "Epoch 157/300\n",
            "155/155 - 0s - loss: 0.0041 - mse: 0.0041 - val_loss: 0.0199 - val_mse: 0.0199 - 423ms/epoch - 3ms/step\n",
            "Epoch 158/300\n",
            "155/155 - 1s - loss: 0.0041 - mse: 0.0041 - val_loss: 0.0202 - val_mse: 0.0202 - 552ms/epoch - 4ms/step\n",
            "Epoch 159/300\n",
            "155/155 - 0s - loss: 0.0042 - mse: 0.0042 - val_loss: 0.0208 - val_mse: 0.0208 - 439ms/epoch - 3ms/step\n",
            "Epoch 160/300\n",
            "155/155 - 0s - loss: 0.0041 - mse: 0.0041 - val_loss: 0.0195 - val_mse: 0.0195 - 449ms/epoch - 3ms/step\n",
            "Epoch 161/300\n",
            "155/155 - 0s - loss: 0.0041 - mse: 0.0041 - val_loss: 0.0212 - val_mse: 0.0212 - 456ms/epoch - 3ms/step\n",
            "Epoch 162/300\n",
            "155/155 - 0s - loss: 0.0040 - mse: 0.0040 - val_loss: 0.0206 - val_mse: 0.0206 - 433ms/epoch - 3ms/step\n",
            "Epoch 163/300\n",
            "155/155 - 0s - loss: 0.0041 - mse: 0.0041 - val_loss: 0.0208 - val_mse: 0.0208 - 427ms/epoch - 3ms/step\n",
            "Epoch 164/300\n",
            "155/155 - 0s - loss: 0.0040 - mse: 0.0040 - val_loss: 0.0203 - val_mse: 0.0203 - 429ms/epoch - 3ms/step\n",
            "Epoch 165/300\n",
            "155/155 - 0s - loss: 0.0040 - mse: 0.0040 - val_loss: 0.0215 - val_mse: 0.0215 - 452ms/epoch - 3ms/step\n",
            "Epoch 166/300\n",
            "155/155 - 0s - loss: 0.0040 - mse: 0.0040 - val_loss: 0.0230 - val_mse: 0.0230 - 429ms/epoch - 3ms/step\n",
            "Epoch 167/300\n",
            "155/155 - 0s - loss: 0.0042 - mse: 0.0042 - val_loss: 0.0228 - val_mse: 0.0228 - 452ms/epoch - 3ms/step\n",
            "Epoch 168/300\n",
            "155/155 - 0s - loss: 0.0040 - mse: 0.0040 - val_loss: 0.0235 - val_mse: 0.0235 - 436ms/epoch - 3ms/step\n",
            "Epoch 169/300\n",
            "155/155 - 0s - loss: 0.0039 - mse: 0.0039 - val_loss: 0.0203 - val_mse: 0.0203 - 438ms/epoch - 3ms/step\n",
            "Epoch 170/300\n",
            "155/155 - 0s - loss: 0.0040 - mse: 0.0040 - val_loss: 0.0229 - val_mse: 0.0229 - 458ms/epoch - 3ms/step\n",
            "Epoch 171/300\n",
            "155/155 - 0s - loss: 0.0040 - mse: 0.0040 - val_loss: 0.0219 - val_mse: 0.0219 - 426ms/epoch - 3ms/step\n",
            "Epoch 172/300\n",
            "155/155 - 0s - loss: 0.0039 - mse: 0.0039 - val_loss: 0.0217 - val_mse: 0.0217 - 459ms/epoch - 3ms/step\n",
            "Epoch 173/300\n",
            "155/155 - 0s - loss: 0.0040 - mse: 0.0040 - val_loss: 0.0227 - val_mse: 0.0227 - 451ms/epoch - 3ms/step\n",
            "Epoch 174/300\n",
            "155/155 - 0s - loss: 0.0039 - mse: 0.0039 - val_loss: 0.0204 - val_mse: 0.0204 - 455ms/epoch - 3ms/step\n",
            "Epoch 175/300\n",
            "155/155 - 0s - loss: 0.0039 - mse: 0.0039 - val_loss: 0.0238 - val_mse: 0.0238 - 427ms/epoch - 3ms/step\n",
            "Epoch 176/300\n",
            "155/155 - 0s - loss: 0.0039 - mse: 0.0039 - val_loss: 0.0228 - val_mse: 0.0228 - 447ms/epoch - 3ms/step\n",
            "Epoch 177/300\n",
            "155/155 - 0s - loss: 0.0039 - mse: 0.0039 - val_loss: 0.0234 - val_mse: 0.0234 - 451ms/epoch - 3ms/step\n",
            "Epoch 178/300\n",
            "155/155 - 0s - loss: 0.0040 - mse: 0.0040 - val_loss: 0.0221 - val_mse: 0.0221 - 426ms/epoch - 3ms/step\n",
            "Epoch 179/300\n",
            "155/155 - 0s - loss: 0.0039 - mse: 0.0039 - val_loss: 0.0214 - val_mse: 0.0214 - 470ms/epoch - 3ms/step\n",
            "Epoch 180/300\n",
            "155/155 - 0s - loss: 0.0039 - mse: 0.0039 - val_loss: 0.0252 - val_mse: 0.0252 - 490ms/epoch - 3ms/step\n",
            "Epoch 181/300\n",
            "155/155 - 0s - loss: 0.0039 - mse: 0.0039 - val_loss: 0.0232 - val_mse: 0.0232 - 469ms/epoch - 3ms/step\n",
            "Epoch 182/300\n",
            "155/155 - 0s - loss: 0.0038 - mse: 0.0038 - val_loss: 0.0242 - val_mse: 0.0242 - 437ms/epoch - 3ms/step\n",
            "Epoch 183/300\n",
            "155/155 - 0s - loss: 0.0038 - mse: 0.0038 - val_loss: 0.0206 - val_mse: 0.0206 - 442ms/epoch - 3ms/step\n",
            "Epoch 184/300\n",
            "155/155 - 0s - loss: 0.0038 - mse: 0.0038 - val_loss: 0.0216 - val_mse: 0.0216 - 446ms/epoch - 3ms/step\n",
            "Epoch 185/300\n",
            "155/155 - 0s - loss: 0.0038 - mse: 0.0038 - val_loss: 0.0232 - val_mse: 0.0232 - 449ms/epoch - 3ms/step\n",
            "Epoch 186/300\n",
            "155/155 - 0s - loss: 0.0038 - mse: 0.0038 - val_loss: 0.0227 - val_mse: 0.0227 - 425ms/epoch - 3ms/step\n",
            "Epoch 187/300\n",
            "155/155 - 0s - loss: 0.0038 - mse: 0.0038 - val_loss: 0.0214 - val_mse: 0.0214 - 438ms/epoch - 3ms/step\n",
            "Epoch 188/300\n",
            "155/155 - 0s - loss: 0.0038 - mse: 0.0038 - val_loss: 0.0207 - val_mse: 0.0207 - 442ms/epoch - 3ms/step\n",
            "Epoch 189/300\n",
            "155/155 - 0s - loss: 0.0039 - mse: 0.0039 - val_loss: 0.0213 - val_mse: 0.0213 - 429ms/epoch - 3ms/step\n",
            "Epoch 190/300\n",
            "155/155 - 0s - loss: 0.0038 - mse: 0.0038 - val_loss: 0.0221 - val_mse: 0.0221 - 464ms/epoch - 3ms/step\n",
            "Epoch 191/300\n",
            "155/155 - 0s - loss: 0.0037 - mse: 0.0037 - val_loss: 0.0226 - val_mse: 0.0226 - 443ms/epoch - 3ms/step\n",
            "Epoch 192/300\n",
            "155/155 - 0s - loss: 0.0038 - mse: 0.0038 - val_loss: 0.0218 - val_mse: 0.0218 - 450ms/epoch - 3ms/step\n",
            "Epoch 193/300\n",
            "155/155 - 0s - loss: 0.0037 - mse: 0.0037 - val_loss: 0.0207 - val_mse: 0.0207 - 433ms/epoch - 3ms/step\n",
            "Epoch 194/300\n",
            "155/155 - 0s - loss: 0.0038 - mse: 0.0038 - val_loss: 0.0235 - val_mse: 0.0235 - 456ms/epoch - 3ms/step\n",
            "Epoch 195/300\n",
            "155/155 - 0s - loss: 0.0037 - mse: 0.0037 - val_loss: 0.0211 - val_mse: 0.0211 - 445ms/epoch - 3ms/step\n",
            "Epoch 196/300\n",
            "155/155 - 0s - loss: 0.0037 - mse: 0.0037 - val_loss: 0.0241 - val_mse: 0.0241 - 446ms/epoch - 3ms/step\n",
            "Epoch 197/300\n",
            "155/155 - 0s - loss: 0.0037 - mse: 0.0037 - val_loss: 0.0235 - val_mse: 0.0235 - 432ms/epoch - 3ms/step\n",
            "Epoch 198/300\n",
            "155/155 - 0s - loss: 0.0038 - mse: 0.0038 - val_loss: 0.0230 - val_mse: 0.0230 - 435ms/epoch - 3ms/step\n",
            "Epoch 199/300\n",
            "155/155 - 0s - loss: 0.0037 - mse: 0.0037 - val_loss: 0.0216 - val_mse: 0.0216 - 447ms/epoch - 3ms/step\n",
            "Epoch 200/300\n",
            "155/155 - 0s - loss: 0.0037 - mse: 0.0037 - val_loss: 0.0234 - val_mse: 0.0234 - 461ms/epoch - 3ms/step\n",
            "Epoch 201/300\n",
            "155/155 - 0s - loss: 0.0036 - mse: 0.0036 - val_loss: 0.0240 - val_mse: 0.0240 - 441ms/epoch - 3ms/step\n",
            "Epoch 202/300\n",
            "155/155 - 0s - loss: 0.0036 - mse: 0.0036 - val_loss: 0.0278 - val_mse: 0.0278 - 433ms/epoch - 3ms/step\n",
            "Epoch 203/300\n",
            "155/155 - 1s - loss: 0.0037 - mse: 0.0037 - val_loss: 0.0262 - val_mse: 0.0262 - 530ms/epoch - 3ms/step\n",
            "Epoch 204/300\n",
            "155/155 - 0s - loss: 0.0036 - mse: 0.0036 - val_loss: 0.0262 - val_mse: 0.0262 - 452ms/epoch - 3ms/step\n",
            "Epoch 205/300\n",
            "155/155 - 0s - loss: 0.0036 - mse: 0.0036 - val_loss: 0.0208 - val_mse: 0.0208 - 441ms/epoch - 3ms/step\n",
            "Epoch 206/300\n",
            "155/155 - 0s - loss: 0.0036 - mse: 0.0036 - val_loss: 0.0245 - val_mse: 0.0245 - 440ms/epoch - 3ms/step\n",
            "Epoch 207/300\n",
            "155/155 - 0s - loss: 0.0036 - mse: 0.0036 - val_loss: 0.0229 - val_mse: 0.0229 - 427ms/epoch - 3ms/step\n",
            "Epoch 208/300\n",
            "155/155 - 0s - loss: 0.0036 - mse: 0.0036 - val_loss: 0.0238 - val_mse: 0.0238 - 451ms/epoch - 3ms/step\n",
            "Epoch 209/300\n",
            "155/155 - 0s - loss: 0.0037 - mse: 0.0037 - val_loss: 0.0228 - val_mse: 0.0228 - 429ms/epoch - 3ms/step\n",
            "Epoch 210/300\n",
            "155/155 - 0s - loss: 0.0035 - mse: 0.0035 - val_loss: 0.0258 - val_mse: 0.0258 - 423ms/epoch - 3ms/step\n",
            "Epoch 211/300\n",
            "155/155 - 0s - loss: 0.0036 - mse: 0.0036 - val_loss: 0.0244 - val_mse: 0.0244 - 429ms/epoch - 3ms/step\n",
            "Epoch 212/300\n",
            "155/155 - 0s - loss: 0.0036 - mse: 0.0036 - val_loss: 0.0266 - val_mse: 0.0266 - 435ms/epoch - 3ms/step\n",
            "Epoch 213/300\n",
            "155/155 - 0s - loss: 0.0036 - mse: 0.0036 - val_loss: 0.0240 - val_mse: 0.0240 - 460ms/epoch - 3ms/step\n",
            "Epoch 214/300\n",
            "155/155 - 0s - loss: 0.0036 - mse: 0.0036 - val_loss: 0.0232 - val_mse: 0.0232 - 441ms/epoch - 3ms/step\n",
            "Epoch 215/300\n",
            "155/155 - 0s - loss: 0.0036 - mse: 0.0036 - val_loss: 0.0278 - val_mse: 0.0278 - 443ms/epoch - 3ms/step\n",
            "Epoch 216/300\n",
            "155/155 - 0s - loss: 0.0036 - mse: 0.0036 - val_loss: 0.0255 - val_mse: 0.0255 - 436ms/epoch - 3ms/step\n",
            "Epoch 217/300\n",
            "155/155 - 0s - loss: 0.0035 - mse: 0.0035 - val_loss: 0.0254 - val_mse: 0.0254 - 449ms/epoch - 3ms/step\n",
            "Epoch 218/300\n",
            "155/155 - 0s - loss: 0.0035 - mse: 0.0035 - val_loss: 0.0319 - val_mse: 0.0319 - 443ms/epoch - 3ms/step\n",
            "Epoch 219/300\n",
            "155/155 - 1s - loss: 0.0035 - mse: 0.0035 - val_loss: 0.0237 - val_mse: 0.0237 - 519ms/epoch - 3ms/step\n",
            "Epoch 220/300\n",
            "155/155 - 0s - loss: 0.0035 - mse: 0.0035 - val_loss: 0.0287 - val_mse: 0.0287 - 439ms/epoch - 3ms/step\n",
            "Epoch 221/300\n",
            "155/155 - 0s - loss: 0.0037 - mse: 0.0037 - val_loss: 0.0251 - val_mse: 0.0251 - 449ms/epoch - 3ms/step\n",
            "Epoch 222/300\n",
            "155/155 - 0s - loss: 0.0036 - mse: 0.0036 - val_loss: 0.0246 - val_mse: 0.0246 - 437ms/epoch - 3ms/step\n",
            "Epoch 223/300\n",
            "155/155 - 0s - loss: 0.0035 - mse: 0.0035 - val_loss: 0.0247 - val_mse: 0.0247 - 429ms/epoch - 3ms/step\n",
            "Epoch 224/300\n",
            "155/155 - 0s - loss: 0.0035 - mse: 0.0035 - val_loss: 0.0240 - val_mse: 0.0240 - 440ms/epoch - 3ms/step\n",
            "Epoch 225/300\n",
            "155/155 - 0s - loss: 0.0035 - mse: 0.0035 - val_loss: 0.0254 - val_mse: 0.0254 - 429ms/epoch - 3ms/step\n",
            "Epoch 226/300\n",
            "155/155 - 0s - loss: 0.0035 - mse: 0.0035 - val_loss: 0.0243 - val_mse: 0.0243 - 444ms/epoch - 3ms/step\n",
            "Epoch 227/300\n",
            "155/155 - 0s - loss: 0.0035 - mse: 0.0035 - val_loss: 0.0235 - val_mse: 0.0235 - 460ms/epoch - 3ms/step\n",
            "Epoch 228/300\n",
            "155/155 - 0s - loss: 0.0034 - mse: 0.0034 - val_loss: 0.0254 - val_mse: 0.0254 - 463ms/epoch - 3ms/step\n",
            "Epoch 229/300\n",
            "155/155 - 0s - loss: 0.0035 - mse: 0.0035 - val_loss: 0.0290 - val_mse: 0.0290 - 438ms/epoch - 3ms/step\n",
            "Epoch 230/300\n",
            "155/155 - 0s - loss: 0.0035 - mse: 0.0035 - val_loss: 0.0285 - val_mse: 0.0285 - 463ms/epoch - 3ms/step\n",
            "Epoch 231/300\n",
            "155/155 - 0s - loss: 0.0035 - mse: 0.0035 - val_loss: 0.0267 - val_mse: 0.0267 - 455ms/epoch - 3ms/step\n",
            "Epoch 232/300\n",
            "155/155 - 0s - loss: 0.0035 - mse: 0.0035 - val_loss: 0.0293 - val_mse: 0.0293 - 425ms/epoch - 3ms/step\n",
            "Epoch 233/300\n",
            "155/155 - 0s - loss: 0.0035 - mse: 0.0035 - val_loss: 0.0272 - val_mse: 0.0272 - 439ms/epoch - 3ms/step\n",
            "Epoch 234/300\n",
            "155/155 - 0s - loss: 0.0034 - mse: 0.0034 - val_loss: 0.0277 - val_mse: 0.0277 - 444ms/epoch - 3ms/step\n",
            "Epoch 235/300\n",
            "155/155 - 0s - loss: 0.0034 - mse: 0.0034 - val_loss: 0.0275 - val_mse: 0.0275 - 495ms/epoch - 3ms/step\n",
            "Epoch 236/300\n",
            "155/155 - 0s - loss: 0.0035 - mse: 0.0035 - val_loss: 0.0289 - val_mse: 0.0289 - 452ms/epoch - 3ms/step\n",
            "Epoch 237/300\n",
            "155/155 - 0s - loss: 0.0034 - mse: 0.0034 - val_loss: 0.0291 - val_mse: 0.0291 - 435ms/epoch - 3ms/step\n",
            "Epoch 238/300\n",
            "155/155 - 0s - loss: 0.0034 - mse: 0.0034 - val_loss: 0.0254 - val_mse: 0.0254 - 453ms/epoch - 3ms/step\n",
            "Epoch 239/300\n",
            "155/155 - 0s - loss: 0.0034 - mse: 0.0034 - val_loss: 0.0282 - val_mse: 0.0282 - 434ms/epoch - 3ms/step\n",
            "Epoch 240/300\n",
            "155/155 - 0s - loss: 0.0034 - mse: 0.0034 - val_loss: 0.0290 - val_mse: 0.0290 - 453ms/epoch - 3ms/step\n",
            "Epoch 241/300\n",
            "155/155 - 0s - loss: 0.0035 - mse: 0.0035 - val_loss: 0.0296 - val_mse: 0.0296 - 424ms/epoch - 3ms/step\n",
            "Epoch 242/300\n",
            "155/155 - 0s - loss: 0.0034 - mse: 0.0034 - val_loss: 0.0282 - val_mse: 0.0282 - 458ms/epoch - 3ms/step\n",
            "Epoch 243/300\n",
            "155/155 - 0s - loss: 0.0033 - mse: 0.0033 - val_loss: 0.0301 - val_mse: 0.0301 - 469ms/epoch - 3ms/step\n",
            "Epoch 244/300\n",
            "155/155 - 0s - loss: 0.0034 - mse: 0.0034 - val_loss: 0.0267 - val_mse: 0.0267 - 464ms/epoch - 3ms/step\n",
            "Epoch 245/300\n",
            "155/155 - 0s - loss: 0.0034 - mse: 0.0034 - val_loss: 0.0263 - val_mse: 0.0263 - 455ms/epoch - 3ms/step\n",
            "Epoch 246/300\n",
            "155/155 - 0s - loss: 0.0034 - mse: 0.0034 - val_loss: 0.0276 - val_mse: 0.0276 - 446ms/epoch - 3ms/step\n",
            "Epoch 247/300\n",
            "155/155 - 0s - loss: 0.0033 - mse: 0.0033 - val_loss: 0.0268 - val_mse: 0.0268 - 448ms/epoch - 3ms/step\n",
            "Epoch 248/300\n",
            "155/155 - 0s - loss: 0.0033 - mse: 0.0033 - val_loss: 0.0278 - val_mse: 0.0278 - 444ms/epoch - 3ms/step\n",
            "Epoch 249/300\n",
            "155/155 - 0s - loss: 0.0034 - mse: 0.0034 - val_loss: 0.0280 - val_mse: 0.0280 - 476ms/epoch - 3ms/step\n",
            "Epoch 250/300\n",
            "155/155 - 0s - loss: 0.0033 - mse: 0.0033 - val_loss: 0.0269 - val_mse: 0.0269 - 426ms/epoch - 3ms/step\n",
            "Epoch 251/300\n",
            "155/155 - 0s - loss: 0.0033 - mse: 0.0033 - val_loss: 0.0264 - val_mse: 0.0264 - 470ms/epoch - 3ms/step\n",
            "Epoch 252/300\n",
            "155/155 - 0s - loss: 0.0033 - mse: 0.0033 - val_loss: 0.0261 - val_mse: 0.0261 - 425ms/epoch - 3ms/step\n",
            "Epoch 253/300\n",
            "155/155 - 0s - loss: 0.0033 - mse: 0.0033 - val_loss: 0.0273 - val_mse: 0.0273 - 451ms/epoch - 3ms/step\n",
            "Epoch 254/300\n",
            "155/155 - 0s - loss: 0.0034 - mse: 0.0034 - val_loss: 0.0301 - val_mse: 0.0301 - 453ms/epoch - 3ms/step\n",
            "Epoch 255/300\n",
            "155/155 - 0s - loss: 0.0034 - mse: 0.0034 - val_loss: 0.0258 - val_mse: 0.0258 - 445ms/epoch - 3ms/step\n",
            "Epoch 256/300\n",
            "155/155 - 0s - loss: 0.0034 - mse: 0.0034 - val_loss: 0.0266 - val_mse: 0.0266 - 466ms/epoch - 3ms/step\n",
            "Epoch 257/300\n",
            "155/155 - 0s - loss: 0.0033 - mse: 0.0033 - val_loss: 0.0267 - val_mse: 0.0267 - 430ms/epoch - 3ms/step\n",
            "Epoch 258/300\n",
            "155/155 - 0s - loss: 0.0033 - mse: 0.0033 - val_loss: 0.0328 - val_mse: 0.0328 - 446ms/epoch - 3ms/step\n",
            "Epoch 259/300\n",
            "155/155 - 1s - loss: 0.0033 - mse: 0.0033 - val_loss: 0.0251 - val_mse: 0.0251 - 523ms/epoch - 3ms/step\n",
            "Epoch 260/300\n",
            "155/155 - 0s - loss: 0.0032 - mse: 0.0032 - val_loss: 0.0285 - val_mse: 0.0285 - 444ms/epoch - 3ms/step\n",
            "Epoch 261/300\n",
            "155/155 - 0s - loss: 0.0033 - mse: 0.0033 - val_loss: 0.0261 - val_mse: 0.0261 - 436ms/epoch - 3ms/step\n",
            "Epoch 262/300\n",
            "155/155 - 0s - loss: 0.0032 - mse: 0.0032 - val_loss: 0.0287 - val_mse: 0.0287 - 444ms/epoch - 3ms/step\n",
            "Epoch 263/300\n",
            "155/155 - 0s - loss: 0.0032 - mse: 0.0032 - val_loss: 0.0277 - val_mse: 0.0277 - 437ms/epoch - 3ms/step\n",
            "Epoch 264/300\n",
            "155/155 - 1s - loss: 0.0032 - mse: 0.0032 - val_loss: 0.0256 - val_mse: 0.0256 - 524ms/epoch - 3ms/step\n",
            "Epoch 265/300\n",
            "155/155 - 0s - loss: 0.0033 - mse: 0.0033 - val_loss: 0.0259 - val_mse: 0.0259 - 433ms/epoch - 3ms/step\n",
            "Epoch 266/300\n",
            "155/155 - 1s - loss: 0.0033 - mse: 0.0033 - val_loss: 0.0274 - val_mse: 0.0274 - 509ms/epoch - 3ms/step\n",
            "Epoch 267/300\n",
            "155/155 - 0s - loss: 0.0033 - mse: 0.0033 - val_loss: 0.0296 - val_mse: 0.0296 - 429ms/epoch - 3ms/step\n",
            "Epoch 268/300\n",
            "155/155 - 0s - loss: 0.0034 - mse: 0.0034 - val_loss: 0.0258 - val_mse: 0.0258 - 435ms/epoch - 3ms/step\n",
            "Epoch 269/300\n",
            "155/155 - 0s - loss: 0.0033 - mse: 0.0033 - val_loss: 0.0330 - val_mse: 0.0330 - 448ms/epoch - 3ms/step\n",
            "Epoch 270/300\n",
            "155/155 - 0s - loss: 0.0034 - mse: 0.0034 - val_loss: 0.0275 - val_mse: 0.0275 - 416ms/epoch - 3ms/step\n",
            "Epoch 271/300\n",
            "155/155 - 0s - loss: 0.0033 - mse: 0.0033 - val_loss: 0.0270 - val_mse: 0.0270 - 444ms/epoch - 3ms/step\n",
            "Epoch 272/300\n",
            "155/155 - 0s - loss: 0.0033 - mse: 0.0033 - val_loss: 0.0327 - val_mse: 0.0327 - 424ms/epoch - 3ms/step\n",
            "Epoch 273/300\n",
            "155/155 - 0s - loss: 0.0032 - mse: 0.0032 - val_loss: 0.0298 - val_mse: 0.0298 - 442ms/epoch - 3ms/step\n",
            "Epoch 274/300\n",
            "155/155 - 0s - loss: 0.0032 - mse: 0.0032 - val_loss: 0.0335 - val_mse: 0.0335 - 466ms/epoch - 3ms/step\n",
            "Epoch 275/300\n",
            "155/155 - 0s - loss: 0.0033 - mse: 0.0033 - val_loss: 0.0262 - val_mse: 0.0262 - 439ms/epoch - 3ms/step\n",
            "Epoch 276/300\n",
            "155/155 - 0s - loss: 0.0032 - mse: 0.0032 - val_loss: 0.0312 - val_mse: 0.0312 - 440ms/epoch - 3ms/step\n",
            "Epoch 277/300\n",
            "155/155 - 0s - loss: 0.0033 - mse: 0.0033 - val_loss: 0.0253 - val_mse: 0.0253 - 428ms/epoch - 3ms/step\n",
            "Epoch 278/300\n",
            "155/155 - 0s - loss: 0.0031 - mse: 0.0031 - val_loss: 0.0303 - val_mse: 0.0303 - 442ms/epoch - 3ms/step\n",
            "Epoch 279/300\n",
            "155/155 - 0s - loss: 0.0032 - mse: 0.0032 - val_loss: 0.0297 - val_mse: 0.0297 - 427ms/epoch - 3ms/step\n",
            "Epoch 280/300\n",
            "155/155 - 0s - loss: 0.0032 - mse: 0.0032 - val_loss: 0.0308 - val_mse: 0.0308 - 451ms/epoch - 3ms/step\n",
            "Epoch 281/300\n",
            "155/155 - 0s - loss: 0.0031 - mse: 0.0031 - val_loss: 0.0295 - val_mse: 0.0295 - 429ms/epoch - 3ms/step\n",
            "Epoch 282/300\n",
            "155/155 - 0s - loss: 0.0032 - mse: 0.0032 - val_loss: 0.0354 - val_mse: 0.0354 - 437ms/epoch - 3ms/step\n",
            "Epoch 283/300\n",
            "155/155 - 0s - loss: 0.0033 - mse: 0.0033 - val_loss: 0.0313 - val_mse: 0.0313 - 438ms/epoch - 3ms/step\n",
            "Epoch 284/300\n",
            "155/155 - 0s - loss: 0.0032 - mse: 0.0032 - val_loss: 0.0305 - val_mse: 0.0305 - 455ms/epoch - 3ms/step\n",
            "Epoch 285/300\n",
            "155/155 - 0s - loss: 0.0032 - mse: 0.0032 - val_loss: 0.0340 - val_mse: 0.0340 - 452ms/epoch - 3ms/step\n",
            "Epoch 286/300\n",
            "155/155 - 0s - loss: 0.0032 - mse: 0.0032 - val_loss: 0.0327 - val_mse: 0.0327 - 429ms/epoch - 3ms/step\n",
            "Epoch 287/300\n",
            "155/155 - 0s - loss: 0.0031 - mse: 0.0031 - val_loss: 0.0345 - val_mse: 0.0345 - 451ms/epoch - 3ms/step\n",
            "Epoch 288/300\n",
            "155/155 - 0s - loss: 0.0032 - mse: 0.0032 - val_loss: 0.0313 - val_mse: 0.0313 - 448ms/epoch - 3ms/step\n",
            "Epoch 289/300\n",
            "155/155 - 0s - loss: 0.0031 - mse: 0.0031 - val_loss: 0.0283 - val_mse: 0.0283 - 456ms/epoch - 3ms/step\n",
            "Epoch 290/300\n",
            "155/155 - 0s - loss: 0.0033 - mse: 0.0033 - val_loss: 0.0301 - val_mse: 0.0301 - 434ms/epoch - 3ms/step\n",
            "Epoch 291/300\n",
            "155/155 - 0s - loss: 0.0031 - mse: 0.0031 - val_loss: 0.0337 - val_mse: 0.0337 - 435ms/epoch - 3ms/step\n",
            "Epoch 292/300\n",
            "155/155 - 0s - loss: 0.0032 - mse: 0.0032 - val_loss: 0.0287 - val_mse: 0.0287 - 435ms/epoch - 3ms/step\n",
            "Epoch 293/300\n",
            "155/155 - 0s - loss: 0.0032 - mse: 0.0032 - val_loss: 0.0273 - val_mse: 0.0273 - 452ms/epoch - 3ms/step\n",
            "Epoch 294/300\n",
            "155/155 - 1s - loss: 0.0032 - mse: 0.0032 - val_loss: 0.0314 - val_mse: 0.0314 - 591ms/epoch - 4ms/step\n",
            "Epoch 295/300\n",
            "155/155 - 1s - loss: 0.0031 - mse: 0.0031 - val_loss: 0.0307 - val_mse: 0.0307 - 742ms/epoch - 5ms/step\n",
            "Epoch 296/300\n",
            "155/155 - 1s - loss: 0.0031 - mse: 0.0031 - val_loss: 0.0307 - val_mse: 0.0307 - 845ms/epoch - 5ms/step\n",
            "Epoch 297/300\n",
            "155/155 - 1s - loss: 0.0031 - mse: 0.0031 - val_loss: 0.0303 - val_mse: 0.0303 - 793ms/epoch - 5ms/step\n",
            "Epoch 298/300\n",
            "155/155 - 1s - loss: 0.0031 - mse: 0.0031 - val_loss: 0.0287 - val_mse: 0.0287 - 777ms/epoch - 5ms/step\n",
            "Epoch 299/300\n",
            "155/155 - 1s - loss: 0.0032 - mse: 0.0032 - val_loss: 0.0310 - val_mse: 0.0310 - 702ms/epoch - 5ms/step\n",
            "Epoch 300/300\n",
            "155/155 - 0s - loss: 0.0031 - mse: 0.0031 - val_loss: 0.0310 - val_mse: 0.0310 - 433ms/epoch - 3ms/step\n"
          ]
        }
      ],
      "source": [
        "history = model.fit(X_train, \n",
        "                    y_train, \n",
        "                    epochs=300, \n",
        "                    batch_size=16, \n",
        "                    verbose=2, \n",
        "                    validation_split=0.2)"
      ]
    },
    {
      "cell_type": "markdown",
      "metadata": {
        "id": "NRnZoH7TQJYp"
      },
      "source": [
        "Curva función Costo"
      ]
    },
    {
      "cell_type": "code",
      "execution_count": 120,
      "metadata": {
        "colab": {
          "base_uri": "https://localhost:8080/",
          "height": 279
        },
        "id": "UsDBYuX6PgER",
        "outputId": "86e0b163-521d-482d-98d2-fea8fef1838a"
      },
      "outputs": [
        {
          "output_type": "display_data",
          "data": {
            "text/plain": [
              "<Figure size 432x288 with 1 Axes>"
            ],
            "image/png": "[encoded data removed]"
          },
          "metadata": {
            "needs_background": "light"
          }
        }
      ],
      "source": [
        "import matplotlib.pyplot as plt\n",
        "\n",
        "plt.figure()\n",
        "\n",
        "plt.plot(history.history['loss'], label='train')\n",
        "plt.plot(history.history['val_loss'], label='val')\n",
        "plt.xlabel('Epochs')\n",
        "plt.ylabel('Loss (log)')\n",
        "plt.yscale('log')\n",
        "plt.legend()\n",
        "\n",
        "plt.show()"
      ]
    },
    {
      "cell_type": "markdown",
      "metadata": {
        "id": "78Ih78txoxbn"
      },
      "source": [
        "Predicción"
      ]
    },
    {
      "cell_type": "code",
      "execution_count": 121,
      "metadata": {
        "id": "3AcQaylWo1fO",
        "outputId": "e3edfee2-5ef8-4944-95ca-874e4f48550b",
        "colab": {
          "base_uri": "https://localhost:8080/"
        }
      },
      "outputs": [
        {
          "output_type": "stream",
          "name": "stdout",
          "text": [
            "97/97 [==============================] - 0s 2ms/step\n",
            "48/48 [==============================] - 0s 2ms/step\n"
          ]
        }
      ],
      "source": [
        "# Obtener predicciones\n",
        "train_predictions = model.predict(X_train)\n",
        "test_predictions = model.predict(X_test)"
      ]
    },
    {
      "cell_type": "code",
      "execution_count": 122,
      "metadata": {
        "id": "waWX_4cho5DG"
      },
      "outputs": [],
      "source": [
        "# Volver a magnitud original\n",
        "train_predictions = scaler.inverse_transform(train_predictions)\n",
        "test_predictions = scaler.inverse_transform(test_predictions)"
      ]
    },
    {
      "cell_type": "markdown",
      "metadata": {
        "id": "x0Vf1YYNo-5Q"
      },
      "source": [
        "Graficar resultados"
      ]
    },
    {
      "cell_type": "code",
      "execution_count": 123,
      "metadata": {
        "id": "fgg--FLlo_ot",
        "colab": {
          "base_uri": "https://localhost:8080/",
          "height": 265
        },
        "outputId": "84677e30-622b-4edd-e91d-d5c9dcce5208"
      },
      "outputs": [
        {
          "output_type": "display_data",
          "data": {
            "text/plain": [
              "<Figure size 432x288 with 1 Axes>"
            ],
            "image/png": "[encoded data removed]"
          },
          "metadata": {
            "needs_background": "light"
          }
        }
      ],
      "source": [
        "# Creamos un arreglo vacío para acomodar las predicciones de entrenamiento en el rango correcto\n",
        "train_predict_curve = np.empty_like(dataset)\n",
        "train_predict_curve[:, :] = np.nan\n",
        "train_predict_curve[look_back:len(train_predictions)+look_back, :] = train_predictions\n",
        "\n",
        "# Hacemos lo mismo para las predicciones del conjunto de test y ubicamos las predicciones luego de las predicciones de entrenamiento.\n",
        "test_predict_curve = np.empty_like(dataset)\n",
        "test_predict_curve[:, :] = np.nan\n",
        "test_predict_curve[len(train_predictions)+(look_back*2)+1:len(dataset)-1, :] = test_predictions\n",
        "\n",
        "# Graficamos\n",
        "a1, = plt.plot(scaler.inverse_transform(dataset))\n",
        "a2, = plt.plot(train_predict_curve)\n",
        "a3, = plt.plot(test_predict_curve)\n",
        "plt.legend([a1, a2, a3], ['real','pred train','pred test'])\n",
        "plt.show()"
      ]
    },
    {
      "cell_type": "code",
      "source": [
        "4000 / 365"
      ],
      "metadata": {
        "id": "uSkBHyY9NcfY",
        "outputId": "084ee1a8-6b28-4429-d26c-7e1f0bbeaa18",
        "colab": {
          "base_uri": "https://localhost:8080/"
        }
      },
      "execution_count": 1,
      "outputs": [
        {
          "output_type": "execute_result",
          "data": {
            "text/plain": [
              "10.95890410958904"
            ]
          },
          "metadata": {},
          "execution_count": 1
        }
      ]
    },
    {
      "cell_type": "code",
      "execution_count": null,
      "metadata": {
        "colab": {
          "base_uri": "https://localhost:8080/",
          "height": 265
        },
        "outputId": "84677e30-622b-4edd-e91d-d5c9dcce5208",
        "id": "xn_qBf1gNdCU"
      },
      "outputs": [
        {
          "output_type": "display_data",
          "data": {
            "text/plain": [
              "<Figure size 432x288 with 1 Axes>"
            ],
            "image/png": "[encoded data removed]"
          },
          "metadata": {
            "needs_background": "light"
          }
        }
      ],
      "source": [
        "# Creamos un arreglo vacío para acomodar las predicciones de entrenamiento en el rango correcto\n",
        "train_predict_curve = np.empty_like(dataset)\n",
        "train_predict_curve[:, :] = np.nan\n",
        "train_predict_curve[look_back:len(train_predictions)+look_back, :] = train_predictions\n",
        "\n",
        "# Hacemos lo mismo para las predicciones del conjunto de test y ubicamos las predicciones luego de las predicciones de entrenamiento.\n",
        "test_predict_curve = np.empty_like(dataset)\n",
        "test_predict_curve[:, :] = np.nan\n",
        "test_predict_curve[len(train_predictions)+(look_back*2)+1:len(dataset)-1, :] = test_predictions\n",
        "\n",
        "# Graficamos\n",
        "a1, = plt.plot(scaler.inverse_transform(dataset))\n",
        "a2, = plt.plot(train_predict_curve)\n",
        "a3, = plt.plot(test_predict_curve)\n",
        "plt.legend([a1, a2, a3], ['real','pred train','pred test'])\n",
        "plt.show()"
      ]
    },
    {
      "cell_type": "markdown",
      "metadata": {
        "id": "1R0tTeBV6Zwp"
      },
      "source": [
        "##La Hipotesis:\n",
        "\n",
        "**Agosto es el mes historico con mayores ventas en LickanPets**\n",
        "\n",
        "**Problematica:**\n",
        "\n",
        "* Definir en base a las ventas historicas, volumen de venta mensual en 2023\n",
        "\n",
        "* nos gustaria hacer una claseterizacion por familia de producto o por tipo de producto y conocer la proyección de venta.\n",
        "\n",
        "\n",
        "**Ideas fuezas**\n",
        "\n",
        "* ¿Cual es el alimento que más se vende y en que momento del mes?\n",
        "\n",
        "* La segunda semana del mes se vende más alimentos Kitten\n",
        "\n",
        "* Los perros que consumen PRO PLAN DOG PUPPY SMALL BREED \n",
        " \n",
        "* La tercera semana de cada mes el producto que más se vende es el PROPLAN GATO KITTEN\n",
        "\n",
        "* Dividir en cuadrantes y ver tendencia de ventas para comida de perro"
      ]
    }
  ],
  "metadata": {
    "colab": {
      "collapsed_sections": [
        "VlgESobhFJIW",
        "HE8lI3tlbR-G"
      ],
      "provenance": [],
      "include_colab_link": true
    },
    "kernelspec": {
      "display_name": "Python 3",
      "name": "python3"
    },
    "language_info": {
      "name": "python"
    }
  },
  "nbformat": 4,
  "nbformat_minor": 0
}